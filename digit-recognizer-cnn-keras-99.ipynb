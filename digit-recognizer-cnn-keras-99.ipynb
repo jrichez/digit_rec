{
 "cells": [
  {
   "cell_type": "code",
   "execution_count": 1,
   "id": "5e831b75",
   "metadata": {
    "_cell_guid": "b1076dfc-b9ad-4769-8c92-a6c4dae69d19",
    "_uuid": "8f2839f25d086af736a60e9eeb907d3b93b6e0e5",
    "execution": {
     "iopub.execute_input": "2021-12-08T12:51:49.945732Z",
     "iopub.status.busy": "2021-12-08T12:51:49.944506Z",
     "iopub.status.idle": "2021-12-08T12:51:49.960688Z",
     "shell.execute_reply": "2021-12-08T12:51:49.959936Z",
     "shell.execute_reply.started": "2021-12-08T12:50:42.402708Z"
    },
    "papermill": {
     "duration": 0.06314,
     "end_time": "2021-12-08T12:51:49.960847",
     "exception": false,
     "start_time": "2021-12-08T12:51:49.897707",
     "status": "completed"
    },
    "tags": []
   },
   "outputs": [
    {
     "ename": "ModuleNotFoundError",
     "evalue": "No module named 'pandas'",
     "output_type": "error",
     "traceback": [
      "\u001b[1;31m---------------------------------------------------------------------------\u001b[0m",
      "\u001b[1;31mModuleNotFoundError\u001b[0m                       Traceback (most recent call last)",
      "\u001b[1;32m~\\AppData\\Local\\Temp/ipykernel_13964/1229163428.py\u001b[0m in \u001b[0;36m<module>\u001b[1;34m\u001b[0m\n\u001b[0;32m      4\u001b[0m \u001b[1;33m\u001b[0m\u001b[0m\n\u001b[0;32m      5\u001b[0m \u001b[1;32mimport\u001b[0m \u001b[0mnumpy\u001b[0m \u001b[1;32mas\u001b[0m \u001b[0mnp\u001b[0m \u001b[1;31m# linear algebra\u001b[0m\u001b[1;33m\u001b[0m\u001b[1;33m\u001b[0m\u001b[0m\n\u001b[1;32m----> 6\u001b[1;33m \u001b[1;32mimport\u001b[0m \u001b[0mpandas\u001b[0m \u001b[1;32mas\u001b[0m \u001b[0mpd\u001b[0m \u001b[1;31m# data processing, CSV file I/O (e.g. pd.read_csv)\u001b[0m\u001b[1;33m\u001b[0m\u001b[1;33m\u001b[0m\u001b[0m\n\u001b[0m\u001b[0;32m      7\u001b[0m \u001b[1;33m\u001b[0m\u001b[0m\n\u001b[0;32m      8\u001b[0m \u001b[1;31m# Input data files are available in the read-only \"../input/\" directory\u001b[0m\u001b[1;33m\u001b[0m\u001b[1;33m\u001b[0m\u001b[0m\n",
      "\u001b[1;31mModuleNotFoundError\u001b[0m: No module named 'pandas'"
     ]
    }
   ],
   "source": [
    "# This Python 3 environment comes with many helpful analytics libraries installed\n",
    "# It is defined by the kaggle/python Docker image: https://github.com/kaggle/docker-python\n",
    "# For example, here's several helpful packages to load\n",
    "\n",
    "import numpy as np # linear algebra\n",
    "import pandas as pd # data processing, CSV file I/O (e.g. pd.read_csv)\n",
    "\n",
    "# Input data files are available in the read-only \"../input/\" directory\n",
    "# For example, running this (by clicking run or pressing Shift+Enter) will list all files under the input directory\n",
    "\n",
    "import os\n",
    "for dirname, _, filenames in os.walk('/kaggle/input'):\n",
    "    for filename in filenames:\n",
    "        print(os.path.join(dirname, filename))\n",
    "\n",
    "# You can write up to 20GB to the current directory (/kaggle/working/) that gets preserved as output when you create a version using \"Save & Run All\" \n",
    "# You can also write temporary files to /kaggle/temp/, but they won't be saved outside of the current session"
   ]
  },
  {
   "cell_type": "code",
   "execution_count": 21,
   "id": "8cdc411c",
   "metadata": {
    "execution": {
     "iopub.execute_input": "2021-12-08T12:51:50.051502Z",
     "iopub.status.busy": "2021-12-08T12:51:50.050678Z",
     "iopub.status.idle": "2021-12-08T12:51:55.292909Z",
     "shell.execute_reply": "2021-12-08T12:51:55.292343Z",
     "shell.execute_reply.started": "2021-12-08T11:50:48.915211Z"
    },
    "papermill": {
     "duration": 5.289684,
     "end_time": "2021-12-08T12:51:55.293085",
     "exception": false,
     "start_time": "2021-12-08T12:51:50.003401",
     "status": "completed"
    },
    "tags": []
   },
   "outputs": [],
   "source": [
    "import tensorflow as tf\n",
    "import random as rn\n",
    "import os\n",
    "os.environ['PYTHONHASHSEED'] = '0'\n",
    "np.random.seed(6)\n",
    "tf.random.set_seed(6)"
   ]
  },
  {
   "cell_type": "code",
   "execution_count": 12,
   "id": "805717c6",
   "metadata": {
    "execution": {
     "iopub.execute_input": "2021-12-08T12:51:55.381480Z",
     "iopub.status.busy": "2021-12-08T12:51:55.380725Z",
     "iopub.status.idle": "2021-12-08T12:52:01.611360Z",
     "shell.execute_reply": "2021-12-08T12:52:01.611933Z",
     "shell.execute_reply.started": "2021-12-08T11:50:53.918043Z"
    },
    "papermill": {
     "duration": 6.276538,
     "end_time": "2021-12-08T12:52:01.612158",
     "exception": false,
     "start_time": "2021-12-08T12:51:55.335620",
     "status": "completed"
    },
    "tags": []
   },
   "outputs": [],
   "source": [
    "train = pd.read_csv('train.csv')\n",
    "X_test = pd.read_csv('test.csv')"
   ]
  },
  {
   "cell_type": "code",
   "execution_count": 13,
   "id": "36c85ba4",
   "metadata": {
    "execution": {
     "iopub.execute_input": "2021-12-08T12:52:02.028043Z",
     "iopub.status.busy": "2021-12-08T12:52:02.026629Z",
     "iopub.status.idle": "2021-12-08T12:52:02.160455Z",
     "shell.execute_reply": "2021-12-08T12:52:02.159706Z",
     "shell.execute_reply.started": "2021-12-08T11:51:02.032689Z"
    },
    "papermill": {
     "duration": 0.183981,
     "end_time": "2021-12-08T12:52:02.160615",
     "exception": false,
     "start_time": "2021-12-08T12:52:01.976634",
     "status": "completed"
    },
    "tags": []
   },
   "outputs": [],
   "source": [
    "X_train = train.copy()\n",
    "y_train = X_train.pop('label')"
   ]
  },
  {
   "cell_type": "markdown",
   "id": "5e8a368b",
   "metadata": {
    "papermill": {
     "duration": 0.042686,
     "end_time": "2021-12-08T12:52:02.435878",
     "exception": false,
     "start_time": "2021-12-08T12:52:02.393192",
     "status": "completed"
    },
    "tags": []
   },
   "source": [
    "Scale the data"
   ]
  },
  {
   "cell_type": "code",
   "execution_count": 14,
   "id": "a3778daa",
   "metadata": {
    "execution": {
     "iopub.execute_input": "2021-12-08T12:52:02.524493Z",
     "iopub.status.busy": "2021-12-08T12:52:02.523825Z",
     "iopub.status.idle": "2021-12-08T12:52:03.197221Z",
     "shell.execute_reply": "2021-12-08T12:52:03.196059Z",
     "shell.execute_reply.started": "2021-12-08T11:51:03.850980Z"
    },
    "papermill": {
     "duration": 0.718672,
     "end_time": "2021-12-08T12:52:03.197384",
     "exception": false,
     "start_time": "2021-12-08T12:52:02.478712",
     "status": "completed"
    },
    "tags": []
   },
   "outputs": [],
   "source": [
    "from sklearn.preprocessing import StandardScaler"
   ]
  },
  {
   "cell_type": "code",
   "execution_count": 15,
   "id": "b435074f",
   "metadata": {
    "execution": {
     "iopub.execute_input": "2021-12-08T12:52:03.294277Z",
     "iopub.status.busy": "2021-12-08T12:52:03.293067Z",
     "iopub.status.idle": "2021-12-08T12:52:04.823268Z",
     "shell.execute_reply": "2021-12-08T12:52:04.822711Z",
     "shell.execute_reply.started": "2021-12-08T11:51:06.249537Z"
    },
    "papermill": {
     "duration": 1.582898,
     "end_time": "2021-12-08T12:52:04.823422",
     "exception": false,
     "start_time": "2021-12-08T12:52:03.240524",
     "status": "completed"
    },
    "tags": []
   },
   "outputs": [],
   "source": [
    "sc = StandardScaler()\n",
    "X_train = sc.fit_transform(X_train)\n",
    "X_test = sc.transform(X_test)"
   ]
  },
  {
   "cell_type": "markdown",
   "id": "183e290a",
   "metadata": {
    "papermill": {
     "duration": 0.043366,
     "end_time": "2021-12-08T12:52:04.910078",
     "exception": false,
     "start_time": "2021-12-08T12:52:04.866712",
     "status": "completed"
    },
    "tags": []
   },
   "source": [
    "One hot encode target"
   ]
  },
  {
   "cell_type": "code",
   "execution_count": 16,
   "id": "98d08475",
   "metadata": {
    "execution": {
     "iopub.execute_input": "2021-12-08T12:52:04.999737Z",
     "iopub.status.busy": "2021-12-08T12:52:04.999074Z",
     "iopub.status.idle": "2021-12-08T12:52:05.007498Z",
     "shell.execute_reply": "2021-12-08T12:52:05.007992Z",
     "shell.execute_reply.started": "2021-12-08T11:51:07.649758Z"
    },
    "papermill": {
     "duration": 0.054738,
     "end_time": "2021-12-08T12:52:05.008198",
     "exception": false,
     "start_time": "2021-12-08T12:52:04.953460",
     "status": "completed"
    },
    "tags": []
   },
   "outputs": [],
   "source": [
    "y_train = pd.get_dummies(y_train)   "
   ]
  },
  {
   "cell_type": "markdown",
   "id": "c15a0ac9",
   "metadata": {},
   "source": [
    "Model"
   ]
  },
  {
   "cell_type": "code",
   "execution_count": 28,
   "id": "a0f62e31",
   "metadata": {},
   "outputs": [
    {
     "ename": "NameError",
     "evalue": "name 'keras' is not defined",
     "output_type": "error",
     "traceback": [
      "\u001b[1;31m---------------------------------------------------------------------------\u001b[0m",
      "\u001b[1;31mNameError\u001b[0m                                 Traceback (most recent call last)",
      "\u001b[1;32m~\\AppData\\Local\\Temp/ipykernel_8612/4196263386.py\u001b[0m in \u001b[0;36m<module>\u001b[1;34m\u001b[0m\n\u001b[1;32m----> 1\u001b[1;33m \u001b[0mkeras\u001b[0m\u001b[1;33m.\u001b[0m\u001b[0m__version__\u001b[0m\u001b[1;33m\u001b[0m\u001b[1;33m\u001b[0m\u001b[0m\n\u001b[0m",
      "\u001b[1;31mNameError\u001b[0m: name 'keras' is not defined"
     ]
    }
   ],
   "source": [
    "keras.__version__"
   ]
  },
  {
   "cell_type": "code",
   "execution_count": 2,
   "id": "02977c09",
   "metadata": {
    "execution": {
     "iopub.execute_input": "2021-12-08T12:52:05.185993Z",
     "iopub.status.busy": "2021-12-08T12:52:05.185323Z",
     "iopub.status.idle": "2021-12-08T12:52:05.968167Z",
     "shell.execute_reply": "2021-12-08T12:52:05.968708Z",
     "shell.execute_reply.started": "2021-12-08T12:25:37.338690Z"
    },
    "papermill": {
     "duration": 0.830576,
     "end_time": "2021-12-08T12:52:05.968882",
     "exception": false,
     "start_time": "2021-12-08T12:52:05.138306",
     "status": "completed"
    },
    "scrolled": true,
    "tags": []
   },
   "outputs": [
    {
     "ename": "ModuleNotFoundError",
     "evalue": "No module named 'keras'",
     "output_type": "error",
     "traceback": [
      "\u001b[1;31m---------------------------------------------------------------------------\u001b[0m",
      "\u001b[1;31mModuleNotFoundError\u001b[0m                       Traceback (most recent call last)",
      "\u001b[1;32m~\\AppData\\Local\\Temp/ipykernel_13964/2279447338.py\u001b[0m in \u001b[0;36m<module>\u001b[1;34m\u001b[0m\n\u001b[1;32m----> 1\u001b[1;33m \u001b[1;32mfrom\u001b[0m \u001b[0mkeras\u001b[0m\u001b[1;33m.\u001b[0m\u001b[0mmodels\u001b[0m \u001b[1;32mimport\u001b[0m \u001b[0mModel\u001b[0m\u001b[1;33m\u001b[0m\u001b[1;33m\u001b[0m\u001b[0m\n\u001b[0m\u001b[0;32m      2\u001b[0m \u001b[1;32mfrom\u001b[0m \u001b[0mkeras\u001b[0m\u001b[1;33m.\u001b[0m\u001b[0mlayers\u001b[0m \u001b[1;32mimport\u001b[0m \u001b[0mInput\u001b[0m\u001b[1;33m,\u001b[0m \u001b[0mDense\u001b[0m\u001b[1;33m,\u001b[0m \u001b[0mFlatten\u001b[0m\u001b[1;33m,\u001b[0m \u001b[0mConv2D\u001b[0m\u001b[1;33m,\u001b[0m \u001b[0mMaxPooling2D\u001b[0m\u001b[1;33m,\u001b[0m \u001b[0mBatchNormalization\u001b[0m\u001b[1;33m\u001b[0m\u001b[1;33m\u001b[0m\u001b[0m\n\u001b[0;32m      3\u001b[0m \u001b[1;32mfrom\u001b[0m \u001b[0mtensorflow\u001b[0m\u001b[1;33m.\u001b[0m\u001b[0mkeras\u001b[0m\u001b[1;33m.\u001b[0m\u001b[0mlayers\u001b[0m \u001b[1;32mimport\u001b[0m \u001b[0mResizing\u001b[0m\u001b[1;33m,\u001b[0m \u001b[0mRandomZoom\u001b[0m\u001b[1;33m,\u001b[0m \u001b[0mRandomRotation\u001b[0m\u001b[1;33m\u001b[0m\u001b[1;33m\u001b[0m\u001b[0m\n\u001b[0;32m      4\u001b[0m \u001b[1;32mfrom\u001b[0m \u001b[0mkeras\u001b[0m\u001b[1;33m.\u001b[0m\u001b[0mcallbacks\u001b[0m \u001b[1;32mimport\u001b[0m \u001b[0mEarlyStopping\u001b[0m\u001b[1;33m,\u001b[0m \u001b[0mReduceLROnPlateau\u001b[0m\u001b[1;33m\u001b[0m\u001b[1;33m\u001b[0m\u001b[0m\n\u001b[0;32m      5\u001b[0m \u001b[1;32mfrom\u001b[0m \u001b[0msklearn\u001b[0m\u001b[1;33m.\u001b[0m\u001b[0mmodel_selection\u001b[0m \u001b[1;32mimport\u001b[0m \u001b[0mtrain_test_split\u001b[0m\u001b[1;33m\u001b[0m\u001b[1;33m\u001b[0m\u001b[0m\n",
      "\u001b[1;31mModuleNotFoundError\u001b[0m: No module named 'keras'"
     ]
    }
   ],
   "source": [
    "from keras.models import Model\n",
    "from keras.layers import Input, Dense, Flatten, Conv2D, MaxPooling2D, BatchNormalization\n",
    "from tensorflow.keras.layers import Resizing, RandomZoom, RandomRotation\n",
    "from keras.callbacks import EarlyStopping, ReduceLROnPlateau\n",
    "from sklearn.model_selection import train_test_split"
   ]
  },
  {
   "cell_type": "code",
   "execution_count": 13,
   "id": "15985253",
   "metadata": {
    "execution": {
     "iopub.execute_input": "2021-12-08T12:52:06.059606Z",
     "iopub.status.busy": "2021-12-08T12:52:06.058871Z",
     "iopub.status.idle": "2021-12-08T12:52:06.485680Z",
     "shell.execute_reply": "2021-12-08T12:52:06.484936Z",
     "shell.execute_reply.started": "2021-12-08T11:51:10.945294Z"
    },
    "papermill": {
     "duration": 0.47393,
     "end_time": "2021-12-08T12:52:06.485827",
     "exception": false,
     "start_time": "2021-12-08T12:52:06.011897",
     "status": "completed"
    },
    "tags": []
   },
   "outputs": [],
   "source": [
    "X_train, X_val, y_train, y_val = train_test_split(X_train, y_train, random_state=6)"
   ]
  },
  {
   "cell_type": "code",
   "execution_count": 17,
   "id": "77d2b955",
   "metadata": {
    "execution": {
     "iopub.execute_input": "2021-12-08T12:52:06.975722Z",
     "iopub.status.busy": "2021-12-08T12:52:06.974997Z",
     "iopub.status.idle": "2021-12-08T12:52:08.646968Z",
     "shell.execute_reply": "2021-12-08T12:52:08.646418Z",
     "shell.execute_reply.started": "2021-12-08T11:59:10.838105Z"
    },
    "papermill": {
     "duration": 1.719629,
     "end_time": "2021-12-08T12:52:08.647152",
     "exception": false,
     "start_time": "2021-12-08T12:52:06.927523",
     "status": "completed"
    },
    "tags": []
   },
   "outputs": [
    {
     "name": "stderr",
     "output_type": "stream",
     "text": [
      "2021-12-08 12:52:07.197878: I tensorflow/compiler/mlir/mlir_graph_optimization_pass.cc:185] None of the MLIR Optimization Passes are enabled (registered 2)\n"
     ]
    }
   ],
   "source": []
  },
  {
   "cell_type": "code",
   "execution_count": 25,
   "id": "ddfbbfe6",
   "metadata": {
    "execution": {
     "iopub.execute_input": "2021-12-08T12:52:10.976511Z",
     "iopub.status.busy": "2021-12-08T12:52:10.975777Z",
     "iopub.status.idle": "2021-12-08T12:52:10.979164Z",
     "shell.execute_reply": "2021-12-08T12:52:10.979697Z",
     "shell.execute_reply.started": "2021-12-08T11:54:18.511150Z"
    },
    "papermill": {
     "duration": 0.051297,
     "end_time": "2021-12-08T12:52:10.979864",
     "exception": false,
     "start_time": "2021-12-08T12:52:10.928567",
     "status": "completed"
    },
    "tags": []
   },
   "outputs": [],
   "source": [
    "early_stop = EarlyStopping(patience=5, restore_best_weights=True)"
   ]
  },
  {
   "cell_type": "code",
   "execution_count": 26,
   "id": "dd0e5fa1",
   "metadata": {
    "execution": {
     "iopub.execute_input": "2021-12-08T12:52:11.157912Z",
     "iopub.status.busy": "2021-12-08T12:52:11.157273Z",
     "iopub.status.idle": "2021-12-08T12:52:11.338402Z",
     "shell.execute_reply": "2021-12-08T12:52:11.337662Z",
     "shell.execute_reply.started": "2021-12-08T11:54:19.402606Z"
    },
    "papermill": {
     "duration": 0.227672,
     "end_time": "2021-12-08T12:52:11.338568",
     "exception": false,
     "start_time": "2021-12-08T12:52:11.110896",
     "status": "completed"
    },
    "tags": []
   },
   "outputs": [],
   "source": [
    "X_train = np.array(X_train).reshape((31500, 28, 28, 1))\n",
    "X_val = np.array(X_val).reshape((10500, 28, 28, 1))\n",
    "X_test = np.array(X_test).reshape((28000, 28, 28, 1))"
   ]
  },
  {
   "cell_type": "code",
   "execution_count": 41,
   "id": "4b62d523",
   "metadata": {
    "execution": {
     "iopub.execute_input": "2021-12-08T12:54:31.611428Z",
     "iopub.status.busy": "2021-12-08T12:54:31.610379Z",
     "iopub.status.idle": "2021-12-08T12:54:31.612916Z",
     "shell.execute_reply": "2021-12-08T12:54:31.612360Z",
     "shell.execute_reply.started": "2021-12-08T12:10:46.770329Z"
    },
    "papermill": {
     "duration": 0.616768,
     "end_time": "2021-12-08T12:54:31.613082",
     "exception": false,
     "start_time": "2021-12-08T12:54:30.996314",
     "status": "completed"
    },
    "tags": []
   },
   "outputs": [],
   "source": [
    "lr_plat = ReduceLROnPlateau(monitor='val_accuracy', patience=3, verbose=1, factor=0.3, min_lr=0.00001)"
   ]
  },
  {
   "cell_type": "code",
   "execution_count": 42,
   "id": "6ebe6cd8",
   "metadata": {
    "execution": {
     "iopub.execute_input": "2021-12-08T12:54:34.149150Z",
     "iopub.status.busy": "2021-12-08T12:54:34.148160Z",
     "iopub.status.idle": "2021-12-08T12:54:34.409985Z",
     "shell.execute_reply": "2021-12-08T12:54:34.409420Z",
     "shell.execute_reply.started": "2021-12-08T12:10:50.631893Z"
    },
    "papermill": {
     "duration": 0.872112,
     "end_time": "2021-12-08T12:54:34.410174",
     "exception": false,
     "start_time": "2021-12-08T12:54:33.538062",
     "status": "completed"
    },
    "tags": []
   },
   "outputs": [],
   "source": [
    "inp = Input(shape=(28, 28, 1))      \n",
    "\n",
    "# Data augmentation\n",
    "resized = Resizing(38,38)(inp)\n",
    "zoom = RandomZoom(0.07)(resized)   \n",
    "rot = RandomRotation(0.07)(zoom)\n",
    "\n",
    "conv = Conv2D(64, kernel_size=(3,3), padding='same', activation='relu')(rot)                             \n",
    "pool = MaxPooling2D()(conv)          \n",
    "norm = BatchNormalization()(pool)\n",
    "\n",
    "conv_2 = Conv2D(64, kernel_size=(3,3), padding='same', activation='relu')(norm)\n",
    "pool_2 = MaxPooling2D()(conv_2)\n",
    "norm_2 = BatchNormalization()(pool_2)\n",
    "\n",
    "conv_3 = Conv2D(64, kernel_size=(3,3), padding='same', activation='relu')(norm_2)        \n",
    "pool_3 = MaxPooling2D()(conv_3)\n",
    "norm_3 = BatchNormalization()(pool_3)\n",
    "\n",
    "conv_4 = Conv2D(64, kernel_size=(3,3), padding='same', activation='relu')(norm_3)        \n",
    "pool_4 = MaxPooling2D()(conv_4)\n",
    "norm_4 = BatchNormalization()(pool_4)\n",
    "\n",
    "conv_5 = Conv2D(64, kernel_size=(3,3), padding='same', activation='relu')(norm_4)        \n",
    "pool_5 = MaxPooling2D()(conv_5)\n",
    "norm_5 = BatchNormalization()(pool_5)\n",
    "\n",
    "hidden = Dense(256, activation='relu')(norm_5)\n",
    "flatten = Flatten()(hidden)\n",
    "out = Dense(10, activation='softmax')(flatten)\n",
    "\n",
    "model = Model(inputs=inp, outputs=out)\n",
    "\n",
    "model.compile(optimizer='Adam', loss='categorical_crossentropy', metrics=['accuracy'])"
   ]
  },
  {
   "cell_type": "code",
   "execution_count": 43,
   "id": "edbbd8ee",
   "metadata": {
    "execution": {
     "iopub.execute_input": "2021-12-08T12:54:35.648303Z",
     "iopub.status.busy": "2021-12-08T12:54:35.647566Z",
     "iopub.status.idle": "2021-12-08T13:06:10.749628Z",
     "shell.execute_reply": "2021-12-08T13:06:10.750162Z",
     "shell.execute_reply.started": "2021-12-08T12:10:50.981390Z"
    },
    "papermill": {
     "duration": 695.72539,
     "end_time": "2021-12-08T13:06:10.750359",
     "exception": false,
     "start_time": "2021-12-08T12:54:35.024969",
     "status": "completed"
    },
    "tags": []
   },
   "outputs": [
    {
     "name": "stdout",
     "output_type": "stream",
     "text": [
      "Epoch 1/40\n",
      "493/493 [==============================] - 56s 112ms/step - loss: 0.2259 - accuracy: 0.9329 - val_loss: 0.3258 - val_accuracy: 0.8806\n",
      "Epoch 2/40\n",
      "493/493 [==============================] - 58s 117ms/step - loss: 0.0797 - accuracy: 0.9755 - val_loss: 0.0623 - val_accuracy: 0.9813\n",
      "Epoch 3/40\n",
      "493/493 [==============================] - 58s 117ms/step - loss: 0.0562 - accuracy: 0.9816 - val_loss: 0.0495 - val_accuracy: 0.9852\n",
      "Epoch 4/40\n",
      "493/493 [==============================] - 58s 117ms/step - loss: 0.0491 - accuracy: 0.9848 - val_loss: 0.0504 - val_accuracy: 0.9848\n",
      "Epoch 5/40\n",
      "493/493 [==============================] - 57s 116ms/step - loss: 0.0442 - accuracy: 0.9862 - val_loss: 0.0518 - val_accuracy: 0.9853\n",
      "Epoch 6/40\n",
      "493/493 [==============================] - 58s 117ms/step - loss: 0.0376 - accuracy: 0.9884 - val_loss: 0.0491 - val_accuracy: 0.9850\n",
      "\n",
      "Epoch 00006: ReduceLROnPlateau reducing learning rate to 0.0003000000142492354.\n",
      "Epoch 7/40\n",
      "493/493 [==============================] - 59s 119ms/step - loss: 0.0227 - accuracy: 0.9923 - val_loss: 0.0290 - val_accuracy: 0.9919\n",
      "Epoch 8/40\n",
      "493/493 [==============================] - 59s 120ms/step - loss: 0.0165 - accuracy: 0.9945 - val_loss: 0.0302 - val_accuracy: 0.9915\n",
      "Epoch 9/40\n",
      "493/493 [==============================] - 57s 116ms/step - loss: 0.0145 - accuracy: 0.9954 - val_loss: 0.0329 - val_accuracy: 0.9906\n",
      "Epoch 10/40\n",
      "493/493 [==============================] - 59s 120ms/step - loss: 0.0124 - accuracy: 0.9960 - val_loss: 0.0313 - val_accuracy: 0.9910\n",
      "\n",
      "Epoch 00010: ReduceLROnPlateau reducing learning rate to 9.000000427477062e-05.\n",
      "Epoch 11/40\n",
      "493/493 [==============================] - 60s 121ms/step - loss: 0.0103 - accuracy: 0.9968 - val_loss: 0.0294 - val_accuracy: 0.9921\n",
      "Epoch 12/40\n",
      "493/493 [==============================] - 57s 116ms/step - loss: 0.0091 - accuracy: 0.9969 - val_loss: 0.0300 - val_accuracy: 0.9918\n"
     ]
    },
    {
     "data": {
      "text/plain": [
       "<keras.callbacks.History at 0x7f06a23022d0>"
      ]
     },
     "execution_count": 43,
     "metadata": {},
     "output_type": "execute_result"
    }
   ],
   "source": [
    "model.fit(X_train, y_train, validation_data=(X_val, y_val), epochs=40, callbacks=[early_stop, lr_plat], batch_size=64)                                                         "
   ]
  },
  {
   "cell_type": "code",
   "execution_count": 44,
   "id": "e89e0c88",
   "metadata": {
    "execution": {
     "iopub.execute_input": "2021-12-08T13:06:15.660307Z",
     "iopub.status.busy": "2021-12-08T13:06:15.658885Z",
     "iopub.status.idle": "2021-12-08T13:06:30.098424Z",
     "shell.execute_reply": "2021-12-08T13:06:30.098950Z",
     "shell.execute_reply.started": "2021-12-08T12:22:19.321202Z"
    },
    "papermill": {
     "duration": 16.915316,
     "end_time": "2021-12-08T13:06:30.099189",
     "exception": false,
     "start_time": "2021-12-08T13:06:13.183873",
     "status": "completed"
    },
    "tags": []
   },
   "outputs": [],
   "source": [
    "pred = model.predict(X_test)\n",
    "pred_classes = pred.argmax(axis=-1)\n",
    "sub['Label'] = pred_classes              "
   ]
  }
 ],
 "metadata": {
  "kernelspec": {
   "display_name": "worklab",
   "language": "python",
   "name": "worklab"
  },
  "language_info": {
   "codemirror_mode": {
    "name": "ipython",
    "version": 3
   },
   "file_extension": ".py",
   "mimetype": "text/x-python",
   "name": "python",
   "nbconvert_exporter": "python",
   "pygments_lexer": "ipython3",
   "version": "3.9.7"
  },
  "papermill": {
   "default_parameters": {},
   "duration": 896.468232,
   "end_time": "2021-12-08T13:06:36.021915",
   "environment_variables": {},
   "exception": null,
   "input_path": "__notebook__.ipynb",
   "output_path": "__notebook__.ipynb",
   "parameters": {},
   "start_time": "2021-12-08T12:51:39.553683",
   "version": "2.3.3"
  }
 },
 "nbformat": 4,
 "nbformat_minor": 5
}
