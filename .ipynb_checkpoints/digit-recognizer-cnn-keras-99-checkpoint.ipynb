{
 "cells": [
  {
   "cell_type": "code",
   "execution_count": 1,
   "id": "5e831b75",
   "metadata": {
    "_cell_guid": "b1076dfc-b9ad-4769-8c92-a6c4dae69d19",
    "_uuid": "8f2839f25d086af736a60e9eeb907d3b93b6e0e5",
    "execution": {
     "iopub.execute_input": "2021-12-08T12:51:49.945732Z",
     "iopub.status.busy": "2021-12-08T12:51:49.944506Z",
     "iopub.status.idle": "2021-12-08T12:51:49.960688Z",
     "shell.execute_reply": "2021-12-08T12:51:49.959936Z",
     "shell.execute_reply.started": "2021-12-08T12:50:42.402708Z"
    },
    "papermill": {
     "duration": 0.06314,
     "end_time": "2021-12-08T12:51:49.960847",
     "exception": false,
     "start_time": "2021-12-08T12:51:49.897707",
     "status": "completed"
    },
    "tags": []
   },
   "outputs": [],
   "source": [
    "# This Python 3 environment comes with many helpful analytics libraries installed\n",
    "# It is defined by the kaggle/python Docker image: https://github.com/kaggle/docker-python\n",
    "# For example, here's several helpful packages to load\n",
    "\n",
    "import numpy as np # linear algebra\n",
    "import pandas as pd # data processing, CSV file I/O (e.g. pd.read_csv)\n",
    "\n",
    "# Input data files are available in the read-only \"../input/\" directory\n",
    "# For example, running this (by clicking run or pressing Shift+Enter) will list all files under the input directory\n",
    "\n",
    "import os\n",
    "for dirname, _, filenames in os.walk('/kaggle/input'):\n",
    "    for filename in filenames:\n",
    "        print(os.path.join(dirname, filename))\n",
    "\n",
    "# You can write up to 20GB to the current directory (/kaggle/working/) that gets preserved as output when you create a version using \"Save & Run All\" \n",
    "# You can also write temporary files to /kaggle/temp/, but they won't be saved outside of the current session"
   ]
  },
  {
   "cell_type": "code",
   "execution_count": 2,
   "id": "8cdc411c",
   "metadata": {
    "execution": {
     "iopub.execute_input": "2021-12-08T12:51:50.051502Z",
     "iopub.status.busy": "2021-12-08T12:51:50.050678Z",
     "iopub.status.idle": "2021-12-08T12:51:55.292909Z",
     "shell.execute_reply": "2021-12-08T12:51:55.292343Z",
     "shell.execute_reply.started": "2021-12-08T11:50:48.915211Z"
    },
    "papermill": {
     "duration": 5.289684,
     "end_time": "2021-12-08T12:51:55.293085",
     "exception": false,
     "start_time": "2021-12-08T12:51:50.003401",
     "status": "completed"
    },
    "tags": []
   },
   "outputs": [],
   "source": [
    "import tensorflow as tf\n",
    "import random as rn\n",
    "import os\n",
    "os.environ['PYTHONHASHSEED'] = '0'\n",
    "np.random.seed(6)\n",
    "tf.random.set_seed(6)"
   ]
  },
  {
   "cell_type": "code",
   "execution_count": 3,
   "id": "805717c6",
   "metadata": {
    "execution": {
     "iopub.execute_input": "2021-12-08T12:51:55.381480Z",
     "iopub.status.busy": "2021-12-08T12:51:55.380725Z",
     "iopub.status.idle": "2021-12-08T12:52:01.611360Z",
     "shell.execute_reply": "2021-12-08T12:52:01.611933Z",
     "shell.execute_reply.started": "2021-12-08T11:50:53.918043Z"
    },
    "papermill": {
     "duration": 6.276538,
     "end_time": "2021-12-08T12:52:01.612158",
     "exception": false,
     "start_time": "2021-12-08T12:51:55.335620",
     "status": "completed"
    },
    "tags": []
   },
   "outputs": [
    {
     "ename": "FileNotFoundError",
     "evalue": "[Errno 2] File /kaggle/input/digit-recognizer/train.csv does not exist: '/kaggle/input/digit-recognizer/train.csv'",
     "output_type": "error",
     "traceback": [
      "\u001b[1;31m---------------------------------------------------------------------------\u001b[0m",
      "\u001b[1;31mFileNotFoundError\u001b[0m                         Traceback (most recent call last)",
      "\u001b[1;32m~\\AppData\\Local\\Temp/ipykernel_8612/2262064326.py\u001b[0m in \u001b[0;36m<module>\u001b[1;34m\u001b[0m\n\u001b[1;32m----> 1\u001b[1;33m \u001b[0mtrain\u001b[0m \u001b[1;33m=\u001b[0m \u001b[0mpd\u001b[0m\u001b[1;33m.\u001b[0m\u001b[0mread_csv\u001b[0m\u001b[1;33m(\u001b[0m\u001b[1;34m'/kaggle/input/digit-recognizer/train.csv'\u001b[0m\u001b[1;33m)\u001b[0m\u001b[1;33m\u001b[0m\u001b[1;33m\u001b[0m\u001b[0m\n\u001b[0m\u001b[0;32m      2\u001b[0m \u001b[0mX_test\u001b[0m \u001b[1;33m=\u001b[0m \u001b[0mpd\u001b[0m\u001b[1;33m.\u001b[0m\u001b[0mread_csv\u001b[0m\u001b[1;33m(\u001b[0m\u001b[1;34m'/kaggle/input/digit-recognizer/test.csv'\u001b[0m\u001b[1;33m)\u001b[0m\u001b[1;33m\u001b[0m\u001b[1;33m\u001b[0m\u001b[0m\n",
      "\u001b[1;32m~\\AppData\\Roaming\\Python\\Python38\\site-packages\\pandas\\io\\parsers.py\u001b[0m in \u001b[0;36mparser_f\u001b[1;34m(filepath_or_buffer, sep, delimiter, header, names, index_col, usecols, squeeze, prefix, mangle_dupe_cols, dtype, engine, converters, true_values, false_values, skipinitialspace, skiprows, skipfooter, nrows, na_values, keep_default_na, na_filter, verbose, skip_blank_lines, parse_dates, infer_datetime_format, keep_date_col, date_parser, dayfirst, cache_dates, iterator, chunksize, compression, thousands, decimal, lineterminator, quotechar, quoting, doublequote, escapechar, comment, encoding, dialect, error_bad_lines, warn_bad_lines, delim_whitespace, low_memory, memory_map, float_precision)\u001b[0m\n\u001b[0;32m    674\u001b[0m         )\n\u001b[0;32m    675\u001b[0m \u001b[1;33m\u001b[0m\u001b[0m\n\u001b[1;32m--> 676\u001b[1;33m         \u001b[1;32mreturn\u001b[0m \u001b[0m_read\u001b[0m\u001b[1;33m(\u001b[0m\u001b[0mfilepath_or_buffer\u001b[0m\u001b[1;33m,\u001b[0m \u001b[0mkwds\u001b[0m\u001b[1;33m)\u001b[0m\u001b[1;33m\u001b[0m\u001b[1;33m\u001b[0m\u001b[0m\n\u001b[0m\u001b[0;32m    677\u001b[0m \u001b[1;33m\u001b[0m\u001b[0m\n\u001b[0;32m    678\u001b[0m     \u001b[0mparser_f\u001b[0m\u001b[1;33m.\u001b[0m\u001b[0m__name__\u001b[0m \u001b[1;33m=\u001b[0m \u001b[0mname\u001b[0m\u001b[1;33m\u001b[0m\u001b[1;33m\u001b[0m\u001b[0m\n",
      "\u001b[1;32m~\\AppData\\Roaming\\Python\\Python38\\site-packages\\pandas\\io\\parsers.py\u001b[0m in \u001b[0;36m_read\u001b[1;34m(filepath_or_buffer, kwds)\u001b[0m\n\u001b[0;32m    446\u001b[0m \u001b[1;33m\u001b[0m\u001b[0m\n\u001b[0;32m    447\u001b[0m     \u001b[1;31m# Create the parser.\u001b[0m\u001b[1;33m\u001b[0m\u001b[1;33m\u001b[0m\u001b[1;33m\u001b[0m\u001b[0m\n\u001b[1;32m--> 448\u001b[1;33m     \u001b[0mparser\u001b[0m \u001b[1;33m=\u001b[0m \u001b[0mTextFileReader\u001b[0m\u001b[1;33m(\u001b[0m\u001b[0mfp_or_buf\u001b[0m\u001b[1;33m,\u001b[0m \u001b[1;33m**\u001b[0m\u001b[0mkwds\u001b[0m\u001b[1;33m)\u001b[0m\u001b[1;33m\u001b[0m\u001b[1;33m\u001b[0m\u001b[0m\n\u001b[0m\u001b[0;32m    449\u001b[0m \u001b[1;33m\u001b[0m\u001b[0m\n\u001b[0;32m    450\u001b[0m     \u001b[1;32mif\u001b[0m \u001b[0mchunksize\u001b[0m \u001b[1;32mor\u001b[0m \u001b[0miterator\u001b[0m\u001b[1;33m:\u001b[0m\u001b[1;33m\u001b[0m\u001b[1;33m\u001b[0m\u001b[0m\n",
      "\u001b[1;32m~\\AppData\\Roaming\\Python\\Python38\\site-packages\\pandas\\io\\parsers.py\u001b[0m in \u001b[0;36m__init__\u001b[1;34m(self, f, engine, **kwds)\u001b[0m\n\u001b[0;32m    878\u001b[0m             \u001b[0mself\u001b[0m\u001b[1;33m.\u001b[0m\u001b[0moptions\u001b[0m\u001b[1;33m[\u001b[0m\u001b[1;34m\"has_index_names\"\u001b[0m\u001b[1;33m]\u001b[0m \u001b[1;33m=\u001b[0m \u001b[0mkwds\u001b[0m\u001b[1;33m[\u001b[0m\u001b[1;34m\"has_index_names\"\u001b[0m\u001b[1;33m]\u001b[0m\u001b[1;33m\u001b[0m\u001b[1;33m\u001b[0m\u001b[0m\n\u001b[0;32m    879\u001b[0m \u001b[1;33m\u001b[0m\u001b[0m\n\u001b[1;32m--> 880\u001b[1;33m         \u001b[0mself\u001b[0m\u001b[1;33m.\u001b[0m\u001b[0m_make_engine\u001b[0m\u001b[1;33m(\u001b[0m\u001b[0mself\u001b[0m\u001b[1;33m.\u001b[0m\u001b[0mengine\u001b[0m\u001b[1;33m)\u001b[0m\u001b[1;33m\u001b[0m\u001b[1;33m\u001b[0m\u001b[0m\n\u001b[0m\u001b[0;32m    881\u001b[0m \u001b[1;33m\u001b[0m\u001b[0m\n\u001b[0;32m    882\u001b[0m     \u001b[1;32mdef\u001b[0m \u001b[0mclose\u001b[0m\u001b[1;33m(\u001b[0m\u001b[0mself\u001b[0m\u001b[1;33m)\u001b[0m\u001b[1;33m:\u001b[0m\u001b[1;33m\u001b[0m\u001b[1;33m\u001b[0m\u001b[0m\n",
      "\u001b[1;32m~\\AppData\\Roaming\\Python\\Python38\\site-packages\\pandas\\io\\parsers.py\u001b[0m in \u001b[0;36m_make_engine\u001b[1;34m(self, engine)\u001b[0m\n\u001b[0;32m   1112\u001b[0m     \u001b[1;32mdef\u001b[0m \u001b[0m_make_engine\u001b[0m\u001b[1;33m(\u001b[0m\u001b[0mself\u001b[0m\u001b[1;33m,\u001b[0m \u001b[0mengine\u001b[0m\u001b[1;33m=\u001b[0m\u001b[1;34m\"c\"\u001b[0m\u001b[1;33m)\u001b[0m\u001b[1;33m:\u001b[0m\u001b[1;33m\u001b[0m\u001b[1;33m\u001b[0m\u001b[0m\n\u001b[0;32m   1113\u001b[0m         \u001b[1;32mif\u001b[0m \u001b[0mengine\u001b[0m \u001b[1;33m==\u001b[0m \u001b[1;34m\"c\"\u001b[0m\u001b[1;33m:\u001b[0m\u001b[1;33m\u001b[0m\u001b[1;33m\u001b[0m\u001b[0m\n\u001b[1;32m-> 1114\u001b[1;33m             \u001b[0mself\u001b[0m\u001b[1;33m.\u001b[0m\u001b[0m_engine\u001b[0m \u001b[1;33m=\u001b[0m \u001b[0mCParserWrapper\u001b[0m\u001b[1;33m(\u001b[0m\u001b[0mself\u001b[0m\u001b[1;33m.\u001b[0m\u001b[0mf\u001b[0m\u001b[1;33m,\u001b[0m \u001b[1;33m**\u001b[0m\u001b[0mself\u001b[0m\u001b[1;33m.\u001b[0m\u001b[0moptions\u001b[0m\u001b[1;33m)\u001b[0m\u001b[1;33m\u001b[0m\u001b[1;33m\u001b[0m\u001b[0m\n\u001b[0m\u001b[0;32m   1115\u001b[0m         \u001b[1;32melse\u001b[0m\u001b[1;33m:\u001b[0m\u001b[1;33m\u001b[0m\u001b[1;33m\u001b[0m\u001b[0m\n\u001b[0;32m   1116\u001b[0m             \u001b[1;32mif\u001b[0m \u001b[0mengine\u001b[0m \u001b[1;33m==\u001b[0m \u001b[1;34m\"python\"\u001b[0m\u001b[1;33m:\u001b[0m\u001b[1;33m\u001b[0m\u001b[1;33m\u001b[0m\u001b[0m\n",
      "\u001b[1;32m~\\AppData\\Roaming\\Python\\Python38\\site-packages\\pandas\\io\\parsers.py\u001b[0m in \u001b[0;36m__init__\u001b[1;34m(self, src, **kwds)\u001b[0m\n\u001b[0;32m   1889\u001b[0m         \u001b[0mkwds\u001b[0m\u001b[1;33m[\u001b[0m\u001b[1;34m\"usecols\"\u001b[0m\u001b[1;33m]\u001b[0m \u001b[1;33m=\u001b[0m \u001b[0mself\u001b[0m\u001b[1;33m.\u001b[0m\u001b[0musecols\u001b[0m\u001b[1;33m\u001b[0m\u001b[1;33m\u001b[0m\u001b[0m\n\u001b[0;32m   1890\u001b[0m \u001b[1;33m\u001b[0m\u001b[0m\n\u001b[1;32m-> 1891\u001b[1;33m         \u001b[0mself\u001b[0m\u001b[1;33m.\u001b[0m\u001b[0m_reader\u001b[0m \u001b[1;33m=\u001b[0m \u001b[0mparsers\u001b[0m\u001b[1;33m.\u001b[0m\u001b[0mTextReader\u001b[0m\u001b[1;33m(\u001b[0m\u001b[0msrc\u001b[0m\u001b[1;33m,\u001b[0m \u001b[1;33m**\u001b[0m\u001b[0mkwds\u001b[0m\u001b[1;33m)\u001b[0m\u001b[1;33m\u001b[0m\u001b[1;33m\u001b[0m\u001b[0m\n\u001b[0m\u001b[0;32m   1892\u001b[0m         \u001b[0mself\u001b[0m\u001b[1;33m.\u001b[0m\u001b[0munnamed_cols\u001b[0m \u001b[1;33m=\u001b[0m \u001b[0mself\u001b[0m\u001b[1;33m.\u001b[0m\u001b[0m_reader\u001b[0m\u001b[1;33m.\u001b[0m\u001b[0munnamed_cols\u001b[0m\u001b[1;33m\u001b[0m\u001b[1;33m\u001b[0m\u001b[0m\n\u001b[0;32m   1893\u001b[0m \u001b[1;33m\u001b[0m\u001b[0m\n",
      "\u001b[1;32m~\\anaconda3\\lib\\site-packages\\pandas\\_libs\\parsers.pyx\u001b[0m in \u001b[0;36mpandas._libs.parsers.TextReader.__cinit__\u001b[1;34m()\u001b[0m\n",
      "\u001b[1;32m~\\anaconda3\\lib\\site-packages\\pandas\\_libs\\parsers.pyx\u001b[0m in \u001b[0;36mpandas._libs.parsers.TextReader._setup_parser_source\u001b[1;34m()\u001b[0m\n",
      "\u001b[1;31mFileNotFoundError\u001b[0m: [Errno 2] File /kaggle/input/digit-recognizer/train.csv does not exist: '/kaggle/input/digit-recognizer/train.csv'"
     ]
    }
   ],
   "source": [
    "train = pd.read_csv('/kaggle/input/digit-recognizer/train.csv')\n",
    "X_test = pd.read_csv('/kaggle/input/digit-recognizer/test.csv')"
   ]
  },
  {
   "cell_type": "code",
   "execution_count": 4,
   "id": "50498545",
   "metadata": {
    "execution": {
     "iopub.execute_input": "2021-12-08T12:52:01.702486Z",
     "iopub.status.busy": "2021-12-08T12:52:01.701818Z",
     "iopub.status.idle": "2021-12-08T12:52:01.722109Z",
     "shell.execute_reply": "2021-12-08T12:52:01.721541Z",
     "shell.execute_reply.started": "2021-12-08T11:50:59.658270Z"
    },
    "papermill": {
     "duration": 0.066605,
     "end_time": "2021-12-08T12:52:01.722263",
     "exception": false,
     "start_time": "2021-12-08T12:52:01.655658",
     "status": "completed"
    },
    "tags": []
   },
   "outputs": [],
   "source": [
    "sub = pd.read_csv('/kaggle/input/digit-recognizer/sample_submission.csv')"
   ]
  },
  {
   "cell_type": "code",
   "execution_count": 5,
   "id": "c718cca8",
   "metadata": {
    "execution": {
     "iopub.execute_input": "2021-12-08T12:52:01.817880Z",
     "iopub.status.busy": "2021-12-08T12:52:01.815962Z",
     "iopub.status.idle": "2021-12-08T12:52:01.838854Z",
     "shell.execute_reply": "2021-12-08T12:52:01.839376Z",
     "shell.execute_reply.started": "2021-12-08T11:51:00.900517Z"
    },
    "papermill": {
     "duration": 0.074125,
     "end_time": "2021-12-08T12:52:01.839560",
     "exception": false,
     "start_time": "2021-12-08T12:52:01.765435",
     "status": "completed"
    },
    "tags": []
   },
   "outputs": [
    {
     "data": {
      "text/html": [
       "<div>\n",
       "<style scoped>\n",
       "    .dataframe tbody tr th:only-of-type {\n",
       "        vertical-align: middle;\n",
       "    }\n",
       "\n",
       "    .dataframe tbody tr th {\n",
       "        vertical-align: top;\n",
       "    }\n",
       "\n",
       "    .dataframe thead th {\n",
       "        text-align: right;\n",
       "    }\n",
       "</style>\n",
       "<table border=\"1\" class=\"dataframe\">\n",
       "  <thead>\n",
       "    <tr style=\"text-align: right;\">\n",
       "      <th></th>\n",
       "      <th>label</th>\n",
       "      <th>pixel0</th>\n",
       "      <th>pixel1</th>\n",
       "      <th>pixel2</th>\n",
       "      <th>pixel3</th>\n",
       "      <th>pixel4</th>\n",
       "      <th>pixel5</th>\n",
       "      <th>pixel6</th>\n",
       "      <th>pixel7</th>\n",
       "      <th>pixel8</th>\n",
       "      <th>...</th>\n",
       "      <th>pixel774</th>\n",
       "      <th>pixel775</th>\n",
       "      <th>pixel776</th>\n",
       "      <th>pixel777</th>\n",
       "      <th>pixel778</th>\n",
       "      <th>pixel779</th>\n",
       "      <th>pixel780</th>\n",
       "      <th>pixel781</th>\n",
       "      <th>pixel782</th>\n",
       "      <th>pixel783</th>\n",
       "    </tr>\n",
       "  </thead>\n",
       "  <tbody>\n",
       "    <tr>\n",
       "      <th>0</th>\n",
       "      <td>1</td>\n",
       "      <td>0</td>\n",
       "      <td>0</td>\n",
       "      <td>0</td>\n",
       "      <td>0</td>\n",
       "      <td>0</td>\n",
       "      <td>0</td>\n",
       "      <td>0</td>\n",
       "      <td>0</td>\n",
       "      <td>0</td>\n",
       "      <td>...</td>\n",
       "      <td>0</td>\n",
       "      <td>0</td>\n",
       "      <td>0</td>\n",
       "      <td>0</td>\n",
       "      <td>0</td>\n",
       "      <td>0</td>\n",
       "      <td>0</td>\n",
       "      <td>0</td>\n",
       "      <td>0</td>\n",
       "      <td>0</td>\n",
       "    </tr>\n",
       "    <tr>\n",
       "      <th>1</th>\n",
       "      <td>0</td>\n",
       "      <td>0</td>\n",
       "      <td>0</td>\n",
       "      <td>0</td>\n",
       "      <td>0</td>\n",
       "      <td>0</td>\n",
       "      <td>0</td>\n",
       "      <td>0</td>\n",
       "      <td>0</td>\n",
       "      <td>0</td>\n",
       "      <td>...</td>\n",
       "      <td>0</td>\n",
       "      <td>0</td>\n",
       "      <td>0</td>\n",
       "      <td>0</td>\n",
       "      <td>0</td>\n",
       "      <td>0</td>\n",
       "      <td>0</td>\n",
       "      <td>0</td>\n",
       "      <td>0</td>\n",
       "      <td>0</td>\n",
       "    </tr>\n",
       "    <tr>\n",
       "      <th>2</th>\n",
       "      <td>1</td>\n",
       "      <td>0</td>\n",
       "      <td>0</td>\n",
       "      <td>0</td>\n",
       "      <td>0</td>\n",
       "      <td>0</td>\n",
       "      <td>0</td>\n",
       "      <td>0</td>\n",
       "      <td>0</td>\n",
       "      <td>0</td>\n",
       "      <td>...</td>\n",
       "      <td>0</td>\n",
       "      <td>0</td>\n",
       "      <td>0</td>\n",
       "      <td>0</td>\n",
       "      <td>0</td>\n",
       "      <td>0</td>\n",
       "      <td>0</td>\n",
       "      <td>0</td>\n",
       "      <td>0</td>\n",
       "      <td>0</td>\n",
       "    </tr>\n",
       "    <tr>\n",
       "      <th>3</th>\n",
       "      <td>4</td>\n",
       "      <td>0</td>\n",
       "      <td>0</td>\n",
       "      <td>0</td>\n",
       "      <td>0</td>\n",
       "      <td>0</td>\n",
       "      <td>0</td>\n",
       "      <td>0</td>\n",
       "      <td>0</td>\n",
       "      <td>0</td>\n",
       "      <td>...</td>\n",
       "      <td>0</td>\n",
       "      <td>0</td>\n",
       "      <td>0</td>\n",
       "      <td>0</td>\n",
       "      <td>0</td>\n",
       "      <td>0</td>\n",
       "      <td>0</td>\n",
       "      <td>0</td>\n",
       "      <td>0</td>\n",
       "      <td>0</td>\n",
       "    </tr>\n",
       "    <tr>\n",
       "      <th>4</th>\n",
       "      <td>0</td>\n",
       "      <td>0</td>\n",
       "      <td>0</td>\n",
       "      <td>0</td>\n",
       "      <td>0</td>\n",
       "      <td>0</td>\n",
       "      <td>0</td>\n",
       "      <td>0</td>\n",
       "      <td>0</td>\n",
       "      <td>0</td>\n",
       "      <td>...</td>\n",
       "      <td>0</td>\n",
       "      <td>0</td>\n",
       "      <td>0</td>\n",
       "      <td>0</td>\n",
       "      <td>0</td>\n",
       "      <td>0</td>\n",
       "      <td>0</td>\n",
       "      <td>0</td>\n",
       "      <td>0</td>\n",
       "      <td>0</td>\n",
       "    </tr>\n",
       "  </tbody>\n",
       "</table>\n",
       "<p>5 rows × 785 columns</p>\n",
       "</div>"
      ],
      "text/plain": [
       "   label  pixel0  pixel1  pixel2  pixel3  pixel4  pixel5  pixel6  pixel7  \\\n",
       "0      1       0       0       0       0       0       0       0       0   \n",
       "1      0       0       0       0       0       0       0       0       0   \n",
       "2      1       0       0       0       0       0       0       0       0   \n",
       "3      4       0       0       0       0       0       0       0       0   \n",
       "4      0       0       0       0       0       0       0       0       0   \n",
       "\n",
       "   pixel8  ...  pixel774  pixel775  pixel776  pixel777  pixel778  pixel779  \\\n",
       "0       0  ...         0         0         0         0         0         0   \n",
       "1       0  ...         0         0         0         0         0         0   \n",
       "2       0  ...         0         0         0         0         0         0   \n",
       "3       0  ...         0         0         0         0         0         0   \n",
       "4       0  ...         0         0         0         0         0         0   \n",
       "\n",
       "   pixel780  pixel781  pixel782  pixel783  \n",
       "0         0         0         0         0  \n",
       "1         0         0         0         0  \n",
       "2         0         0         0         0  \n",
       "3         0         0         0         0  \n",
       "4         0         0         0         0  \n",
       "\n",
       "[5 rows x 785 columns]"
      ]
     },
     "execution_count": 5,
     "metadata": {},
     "output_type": "execute_result"
    }
   ],
   "source": [
    "train.head()"
   ]
  },
  {
   "cell_type": "code",
   "execution_count": 6,
   "id": "df38aa91",
   "metadata": {
    "execution": {
     "iopub.execute_input": "2021-12-08T12:52:01.928925Z",
     "iopub.status.busy": "2021-12-08T12:52:01.927896Z",
     "iopub.status.idle": "2021-12-08T12:52:01.933876Z",
     "shell.execute_reply": "2021-12-08T12:52:01.933347Z",
     "shell.execute_reply.started": "2021-12-08T11:51:01.461235Z"
    },
    "papermill": {
     "duration": 0.051935,
     "end_time": "2021-12-08T12:52:01.934036",
     "exception": false,
     "start_time": "2021-12-08T12:52:01.882101",
     "status": "completed"
    },
    "tags": []
   },
   "outputs": [
    {
     "data": {
      "text/plain": [
       "(42000, 785)"
      ]
     },
     "execution_count": 6,
     "metadata": {},
     "output_type": "execute_result"
    }
   ],
   "source": [
    "train.shape"
   ]
  },
  {
   "cell_type": "code",
   "execution_count": 7,
   "id": "36c85ba4",
   "metadata": {
    "execution": {
     "iopub.execute_input": "2021-12-08T12:52:02.028043Z",
     "iopub.status.busy": "2021-12-08T12:52:02.026629Z",
     "iopub.status.idle": "2021-12-08T12:52:02.160455Z",
     "shell.execute_reply": "2021-12-08T12:52:02.159706Z",
     "shell.execute_reply.started": "2021-12-08T11:51:02.032689Z"
    },
    "papermill": {
     "duration": 0.183981,
     "end_time": "2021-12-08T12:52:02.160615",
     "exception": false,
     "start_time": "2021-12-08T12:52:01.976634",
     "status": "completed"
    },
    "tags": []
   },
   "outputs": [],
   "source": [
    "X_train = train.copy()\n",
    "y_train = X_train.pop('label')"
   ]
  },
  {
   "cell_type": "code",
   "execution_count": 8,
   "id": "a50b58e8",
   "metadata": {
    "execution": {
     "iopub.execute_input": "2021-12-08T12:52:02.258392Z",
     "iopub.status.busy": "2021-12-08T12:52:02.257682Z",
     "iopub.status.idle": "2021-12-08T12:52:02.260160Z",
     "shell.execute_reply": "2021-12-08T12:52:02.260647Z",
     "shell.execute_reply.started": "2021-12-08T11:51:02.660263Z"
    },
    "papermill": {
     "duration": 0.05639,
     "end_time": "2021-12-08T12:52:02.260827",
     "exception": false,
     "start_time": "2021-12-08T12:52:02.204437",
     "status": "completed"
    },
    "tags": []
   },
   "outputs": [
    {
     "data": {
      "text/plain": [
       "1    4684\n",
       "7    4401\n",
       "3    4351\n",
       "9    4188\n",
       "2    4177\n",
       "6    4137\n",
       "0    4132\n",
       "4    4072\n",
       "8    4063\n",
       "5    3795\n",
       "Name: label, dtype: int64"
      ]
     },
     "execution_count": 8,
     "metadata": {},
     "output_type": "execute_result"
    }
   ],
   "source": [
    "y_train.value_counts()"
   ]
  },
  {
   "cell_type": "markdown",
   "id": "d0a21380",
   "metadata": {
    "papermill": {
     "duration": 0.044666,
     "end_time": "2021-12-08T12:52:02.349786",
     "exception": false,
     "start_time": "2021-12-08T12:52:02.305120",
     "status": "completed"
    },
    "tags": []
   },
   "source": [
    "Some observations : \n",
    "\n",
    "Task : multi class classification\n",
    "\n",
    "Classes are pretty balanced"
   ]
  },
  {
   "cell_type": "markdown",
   "id": "5e8a368b",
   "metadata": {
    "papermill": {
     "duration": 0.042686,
     "end_time": "2021-12-08T12:52:02.435878",
     "exception": false,
     "start_time": "2021-12-08T12:52:02.393192",
     "status": "completed"
    },
    "tags": []
   },
   "source": [
    "Scale the data"
   ]
  },
  {
   "cell_type": "code",
   "execution_count": 9,
   "id": "a3778daa",
   "metadata": {
    "execution": {
     "iopub.execute_input": "2021-12-08T12:52:02.524493Z",
     "iopub.status.busy": "2021-12-08T12:52:02.523825Z",
     "iopub.status.idle": "2021-12-08T12:52:03.197221Z",
     "shell.execute_reply": "2021-12-08T12:52:03.196059Z",
     "shell.execute_reply.started": "2021-12-08T11:51:03.850980Z"
    },
    "papermill": {
     "duration": 0.718672,
     "end_time": "2021-12-08T12:52:03.197384",
     "exception": false,
     "start_time": "2021-12-08T12:52:02.478712",
     "status": "completed"
    },
    "tags": []
   },
   "outputs": [],
   "source": [
    "from sklearn.preprocessing import StandardScaler"
   ]
  },
  {
   "cell_type": "code",
   "execution_count": 10,
   "id": "b435074f",
   "metadata": {
    "execution": {
     "iopub.execute_input": "2021-12-08T12:52:03.294277Z",
     "iopub.status.busy": "2021-12-08T12:52:03.293067Z",
     "iopub.status.idle": "2021-12-08T12:52:04.823268Z",
     "shell.execute_reply": "2021-12-08T12:52:04.822711Z",
     "shell.execute_reply.started": "2021-12-08T11:51:06.249537Z"
    },
    "papermill": {
     "duration": 1.582898,
     "end_time": "2021-12-08T12:52:04.823422",
     "exception": false,
     "start_time": "2021-12-08T12:52:03.240524",
     "status": "completed"
    },
    "tags": []
   },
   "outputs": [],
   "source": [
    "sc = StandardScaler()\n",
    "X_train = sc.fit_transform(X_train)\n",
    "X_test = sc.transform(X_test)"
   ]
  },
  {
   "cell_type": "markdown",
   "id": "183e290a",
   "metadata": {
    "papermill": {
     "duration": 0.043366,
     "end_time": "2021-12-08T12:52:04.910078",
     "exception": false,
     "start_time": "2021-12-08T12:52:04.866712",
     "status": "completed"
    },
    "tags": []
   },
   "source": [
    "One hot encode target"
   ]
  },
  {
   "cell_type": "code",
   "execution_count": 11,
   "id": "98d08475",
   "metadata": {
    "execution": {
     "iopub.execute_input": "2021-12-08T12:52:04.999737Z",
     "iopub.status.busy": "2021-12-08T12:52:04.999074Z",
     "iopub.status.idle": "2021-12-08T12:52:05.007498Z",
     "shell.execute_reply": "2021-12-08T12:52:05.007992Z",
     "shell.execute_reply.started": "2021-12-08T11:51:07.649758Z"
    },
    "papermill": {
     "duration": 0.054738,
     "end_time": "2021-12-08T12:52:05.008198",
     "exception": false,
     "start_time": "2021-12-08T12:52:04.953460",
     "status": "completed"
    },
    "tags": []
   },
   "outputs": [],
   "source": [
    "y_train = pd.get_dummies(y_train)   "
   ]
  },
  {
   "cell_type": "markdown",
   "id": "f445eb8e",
   "metadata": {
    "papermill": {
     "duration": 0.042681,
     "end_time": "2021-12-08T12:52:05.095366",
     "exception": false,
     "start_time": "2021-12-08T12:52:05.052685",
     "status": "completed"
    },
    "tags": []
   },
   "source": [
    "# **Baseline Model**"
   ]
  },
  {
   "cell_type": "code",
   "execution_count": 12,
   "id": "02977c09",
   "metadata": {
    "execution": {
     "iopub.execute_input": "2021-12-08T12:52:05.185993Z",
     "iopub.status.busy": "2021-12-08T12:52:05.185323Z",
     "iopub.status.idle": "2021-12-08T12:52:05.968167Z",
     "shell.execute_reply": "2021-12-08T12:52:05.968708Z",
     "shell.execute_reply.started": "2021-12-08T12:25:37.338690Z"
    },
    "papermill": {
     "duration": 0.830576,
     "end_time": "2021-12-08T12:52:05.968882",
     "exception": false,
     "start_time": "2021-12-08T12:52:05.138306",
     "status": "completed"
    },
    "tags": []
   },
   "outputs": [],
   "source": [
    "from keras.models import Model\n",
    "from keras.layers import Input, Dense, Flatten\n",
    "from sklearn.model_selection import train_test_split"
   ]
  },
  {
   "cell_type": "code",
   "execution_count": 13,
   "id": "15985253",
   "metadata": {
    "execution": {
     "iopub.execute_input": "2021-12-08T12:52:06.059606Z",
     "iopub.status.busy": "2021-12-08T12:52:06.058871Z",
     "iopub.status.idle": "2021-12-08T12:52:06.485680Z",
     "shell.execute_reply": "2021-12-08T12:52:06.484936Z",
     "shell.execute_reply.started": "2021-12-08T11:51:10.945294Z"
    },
    "papermill": {
     "duration": 0.47393,
     "end_time": "2021-12-08T12:52:06.485827",
     "exception": false,
     "start_time": "2021-12-08T12:52:06.011897",
     "status": "completed"
    },
    "tags": []
   },
   "outputs": [],
   "source": [
    "X_train, X_val, y_train, y_val = train_test_split(X_train, y_train, random_state=6)"
   ]
  },
  {
   "cell_type": "code",
   "execution_count": 14,
   "id": "f5b474cc",
   "metadata": {
    "execution": {
     "iopub.execute_input": "2021-12-08T12:52:06.580202Z",
     "iopub.status.busy": "2021-12-08T12:52:06.579473Z",
     "iopub.status.idle": "2021-12-08T12:52:06.686780Z",
     "shell.execute_reply": "2021-12-08T12:52:06.687309Z",
     "shell.execute_reply.started": "2021-12-08T11:35:51.650245Z"
    },
    "papermill": {
     "duration": 0.15638,
     "end_time": "2021-12-08T12:52:06.687485",
     "exception": false,
     "start_time": "2021-12-08T12:52:06.531105",
     "status": "completed"
    },
    "tags": []
   },
   "outputs": [
    {
     "name": "stderr",
     "output_type": "stream",
     "text": [
      "\n",
      "User settings:\n",
      "\n",
      "   KMP_AFFINITY=granularity=fine,verbose,compact,1,0\n",
      "   KMP_BLOCKTIME=0\n",
      "   KMP_DUPLICATE_LIB_OK=True\n",
      "   KMP_INIT_AT_FORK=FALSE\n",
      "   KMP_SETTINGS=1\n",
      "   KMP_WARNINGS=0\n",
      "\n",
      "Effective settings:\n",
      "\n",
      "   KMP_ABORT_DELAY=0\n",
      "   KMP_ADAPTIVE_LOCK_PROPS='1,1024'\n",
      "   KMP_ALIGN_ALLOC=64\n",
      "   KMP_ALL_THREADPRIVATE=128\n",
      "   KMP_ATOMIC_MODE=2\n",
      "   KMP_BLOCKTIME=0\n",
      "   KMP_CPUINFO_FILE: value is not defined\n",
      "   KMP_DETERMINISTIC_REDUCTION=false\n",
      "   KMP_DEVICE_THREAD_LIMIT=2147483647\n",
      "   KMP_DISP_NUM_BUFFERS=7\n",
      "   KMP_DUPLICATE_LIB_OK=true\n",
      "   KMP_ENABLE_TASK_THROTTLING=true\n",
      "   KMP_FORCE_REDUCTION: value is not defined\n",
      "   KMP_FOREIGN_THREADS_THREADPRIVATE=true\n",
      "   KMP_FORKJOIN_BARRIER='2,2'\n",
      "   KMP_FORKJOIN_BARRIER_PATTERN='hyper,hyper'\n",
      "   KMP_GTID_MODE=3\n",
      "   KMP_HANDLE_SIGNALS=false\n",
      "   KMP_HOT_TEAMS_MAX_LEVEL=1\n",
      "   KMP_HOT_TEAMS_MODE=0\n",
      "   KMP_INIT_AT_FORK=true\n",
      "   KMP_LIBRARY=throughput\n",
      "   KMP_LOCK_KIND=queuing\n",
      "   KMP_MALLOC_POOL_INCR=1M\n",
      "   KMP_NUM_LOCKS_IN_BLOCK=1\n",
      "   KMP_PLAIN_BARRIER='2,2'\n",
      "   KMP_PLAIN_BARRIER_PATTERN='hyper,hyper'\n",
      "   KMP_REDUCTION_BARRIER='1,1'\n",
      "   KMP_REDUCTION_BARRIER_PATTERN='hyper,hyper'\n",
      "   KMP_SCHEDULE='static,balanced;guided,iterative'\n",
      "   KMP_SETTINGS=true\n",
      "   KMP_SPIN_BACKOFF_PARAMS='4096,100'\n",
      "   KMP_STACKOFFSET=64\n",
      "   KMP_STACKPAD=0\n",
      "   KMP_STACKSIZE=8M\n",
      "   KMP_STORAGE_MAP=false\n",
      "   KMP_TASKING=2\n",
      "   KMP_TASKLOOP_MIN_TASKS=0\n",
      "   KMP_TASK_STEALING_CONSTRAINT=1\n",
      "   KMP_TEAMS_THREAD_LIMIT=4\n",
      "   KMP_TOPOLOGY_METHOD=all\n",
      "   KMP_USE_YIELD=1\n",
      "   KMP_VERSION=false\n",
      "   KMP_WARNINGS=false\n",
      "   OMP_AFFINITY_FORMAT='OMP: pid %P tid %i thread %n bound to OS proc set {%A}'\n",
      "   OMP_ALLOCATOR=omp_default_mem_alloc\n",
      "   OMP_CANCELLATION=false\n",
      "   OMP_DEFAULT_DEVICE=0\n",
      "   OMP_DISPLAY_AFFINITY=false\n",
      "   OMP_DISPLAY_ENV=false\n",
      "   OMP_DYNAMIC=false\n",
      "   OMP_MAX_ACTIVE_LEVELS=1\n",
      "   OMP_MAX_TASK_PRIORITY=0\n",
      "   OMP_NESTED: deprecated; max-active-levels-var=1\n",
      "   OMP_NUM_THREADS: value is not defined\n",
      "   OMP_PLACES: value is not defined\n",
      "   OMP_PROC_BIND='intel'\n",
      "   OMP_SCHEDULE='static'\n",
      "   OMP_STACKSIZE=8M\n",
      "   OMP_TARGET_OFFLOAD=DEFAULT\n",
      "   OMP_THREAD_LIMIT=2147483647\n",
      "   OMP_WAIT_POLICY=PASSIVE\n",
      "   KMP_AFFINITY='verbose,warnings,respect,granularity=fine,compact,1,0'\n",
      "\n",
      "2021-12-08 12:52:06.630282: I tensorflow/core/common_runtime/process_util.cc:146] Creating new thread pool with default inter op setting: 2. Tune using inter_op_parallelism_threads for best performance.\n"
     ]
    }
   ],
   "source": [
    "inp = Input(shape=(784,))\n",
    "out = Dense(10, activation='softmax')(inp)\n",
    "model = Model(inputs=inp, outputs=out)"
   ]
  },
  {
   "cell_type": "code",
   "execution_count": 15,
   "id": "b3b6509a",
   "metadata": {
    "execution": {
     "iopub.execute_input": "2021-12-08T12:52:06.778255Z",
     "iopub.status.busy": "2021-12-08T12:52:06.777583Z",
     "iopub.status.idle": "2021-12-08T12:52:06.789872Z",
     "shell.execute_reply": "2021-12-08T12:52:06.790398Z",
     "shell.execute_reply.started": "2021-12-08T11:36:19.841750Z"
    },
    "papermill": {
     "duration": 0.059668,
     "end_time": "2021-12-08T12:52:06.790585",
     "exception": false,
     "start_time": "2021-12-08T12:52:06.730917",
     "status": "completed"
    },
    "tags": []
   },
   "outputs": [],
   "source": [
    "model.compile(optimizer='adam', loss='categorical_crossentropy', metrics=['accuracy'])"
   ]
  },
  {
   "cell_type": "code",
   "execution_count": 16,
   "id": "bc259f0a",
   "metadata": {
    "execution": {
     "iopub.execute_input": "2021-12-08T12:52:06.880918Z",
     "iopub.status.busy": "2021-12-08T12:52:06.880273Z",
     "iopub.status.idle": "2021-12-08T12:52:06.882958Z",
     "shell.execute_reply": "2021-12-08T12:52:06.883511Z",
     "shell.execute_reply.started": "2021-12-08T11:51:33.360517Z"
    },
    "papermill": {
     "duration": 0.049705,
     "end_time": "2021-12-08T12:52:06.883678",
     "exception": false,
     "start_time": "2021-12-08T12:52:06.833973",
     "status": "completed"
    },
    "tags": []
   },
   "outputs": [],
   "source": [
    "# model.fit(X_train, y_train, validation_data=(X_val, y_val), epochs=10)"
   ]
  },
  {
   "cell_type": "code",
   "execution_count": 17,
   "id": "77d2b955",
   "metadata": {
    "execution": {
     "iopub.execute_input": "2021-12-08T12:52:06.975722Z",
     "iopub.status.busy": "2021-12-08T12:52:06.974997Z",
     "iopub.status.idle": "2021-12-08T12:52:08.646968Z",
     "shell.execute_reply": "2021-12-08T12:52:08.646418Z",
     "shell.execute_reply.started": "2021-12-08T11:59:10.838105Z"
    },
    "papermill": {
     "duration": 1.719629,
     "end_time": "2021-12-08T12:52:08.647152",
     "exception": false,
     "start_time": "2021-12-08T12:52:06.927523",
     "status": "completed"
    },
    "tags": []
   },
   "outputs": [
    {
     "name": "stderr",
     "output_type": "stream",
     "text": [
      "2021-12-08 12:52:07.197878: I tensorflow/compiler/mlir/mlir_graph_optimization_pass.cc:185] None of the MLIR Optimization Passes are enabled (registered 2)\n"
     ]
    }
   ],
   "source": [
    "def get_sub(x):\n",
    "    pred = model.predict(X_test)\n",
    "    pred_classes = pred.argmax(axis=-1)\n",
    "    sub['Label'] = pred_classes\n",
    "    return sub\n",
    "sub = get_sub(X_test)\n",
    "sub.to_csv('submission.csv', index=False)"
   ]
  },
  {
   "cell_type": "code",
   "execution_count": 18,
   "id": "407de137",
   "metadata": {
    "execution": {
     "iopub.execute_input": "2021-12-08T12:52:08.739868Z",
     "iopub.status.busy": "2021-12-08T12:52:08.739078Z",
     "iopub.status.idle": "2021-12-08T12:52:08.741785Z",
     "shell.execute_reply": "2021-12-08T12:52:08.741273Z",
     "shell.execute_reply.started": "2021-12-02T10:02:49.415004Z"
    },
    "papermill": {
     "duration": 0.050783,
     "end_time": "2021-12-08T12:52:08.741920",
     "exception": false,
     "start_time": "2021-12-08T12:52:08.691137",
     "status": "completed"
    },
    "tags": []
   },
   "outputs": [],
   "source": [
    "# Leaderboard : 0.91246"
   ]
  },
  {
   "cell_type": "markdown",
   "id": "0f0f5b98",
   "metadata": {
    "papermill": {
     "duration": 0.043096,
     "end_time": "2021-12-08T12:52:08.828379",
     "exception": false,
     "start_time": "2021-12-08T12:52:08.785283",
     "status": "completed"
    },
    "tags": []
   },
   "source": [
    "# **Hidden layer**"
   ]
  },
  {
   "cell_type": "code",
   "execution_count": 19,
   "id": "b92a7a32",
   "metadata": {
    "execution": {
     "iopub.execute_input": "2021-12-08T12:52:08.923726Z",
     "iopub.status.busy": "2021-12-08T12:52:08.918637Z",
     "iopub.status.idle": "2021-12-08T12:52:08.944786Z",
     "shell.execute_reply": "2021-12-08T12:52:08.945372Z",
     "shell.execute_reply.started": "2021-12-08T11:37:16.324146Z"
    },
    "papermill": {
     "duration": 0.073355,
     "end_time": "2021-12-08T12:52:08.945542",
     "exception": false,
     "start_time": "2021-12-08T12:52:08.872187",
     "status": "completed"
    },
    "tags": []
   },
   "outputs": [],
   "source": [
    "inp = Input(shape=(784,))\n",
    "hidden = Dense(256, activation='relu')(inp)\n",
    "out = Dense(10, activation='softmax')(hidden)\n",
    "model = Model(inputs=inp, outputs=out)"
   ]
  },
  {
   "cell_type": "code",
   "execution_count": 20,
   "id": "bb96ac47",
   "metadata": {
    "execution": {
     "iopub.execute_input": "2021-12-08T12:52:09.040814Z",
     "iopub.status.busy": "2021-12-08T12:52:09.039793Z",
     "iopub.status.idle": "2021-12-08T12:52:09.044468Z",
     "shell.execute_reply": "2021-12-08T12:52:09.045286Z",
     "shell.execute_reply.started": "2021-12-08T11:37:19.123666Z"
    },
    "papermill": {
     "duration": 0.0564,
     "end_time": "2021-12-08T12:52:09.045477",
     "exception": false,
     "start_time": "2021-12-08T12:52:08.989077",
     "status": "completed"
    },
    "tags": []
   },
   "outputs": [],
   "source": [
    "model.compile(optimizer='adam', loss='categorical_crossentropy', metrics=['accuracy'])"
   ]
  },
  {
   "cell_type": "code",
   "execution_count": 21,
   "id": "88636aef",
   "metadata": {
    "execution": {
     "iopub.execute_input": "2021-12-08T12:52:09.137061Z",
     "iopub.status.busy": "2021-12-08T12:52:09.136068Z",
     "iopub.status.idle": "2021-12-08T12:52:09.139604Z",
     "shell.execute_reply": "2021-12-08T12:52:09.140191Z",
     "shell.execute_reply.started": "2021-12-08T11:51:39.134727Z"
    },
    "papermill": {
     "duration": 0.051019,
     "end_time": "2021-12-08T12:52:09.140365",
     "exception": false,
     "start_time": "2021-12-08T12:52:09.089346",
     "status": "completed"
    },
    "tags": []
   },
   "outputs": [],
   "source": [
    "# model.fit(X_train, y_train, validation_data=(X_val, y_val), epochs=10)"
   ]
  },
  {
   "cell_type": "code",
   "execution_count": 22,
   "id": "e02af571",
   "metadata": {
    "execution": {
     "iopub.execute_input": "2021-12-08T12:52:09.231694Z",
     "iopub.status.busy": "2021-12-08T12:52:09.230710Z",
     "iopub.status.idle": "2021-12-08T12:52:10.522850Z",
     "shell.execute_reply": "2021-12-08T12:52:10.523384Z",
     "shell.execute_reply.started": "2021-12-01T15:15:25.122557Z"
    },
    "papermill": {
     "duration": 1.339223,
     "end_time": "2021-12-08T12:52:10.523575",
     "exception": false,
     "start_time": "2021-12-08T12:52:09.184352",
     "status": "completed"
    },
    "tags": []
   },
   "outputs": [],
   "source": [
    "sub = get_sub(X_test)\n",
    "sub.to_csv('submission.csv', index=False)"
   ]
  },
  {
   "cell_type": "code",
   "execution_count": 23,
   "id": "a85f0b15",
   "metadata": {
    "execution": {
     "iopub.execute_input": "2021-12-08T12:52:10.614336Z",
     "iopub.status.busy": "2021-12-08T12:52:10.613690Z",
     "iopub.status.idle": "2021-12-08T12:52:10.616506Z",
     "shell.execute_reply": "2021-12-08T12:52:10.617095Z",
     "shell.execute_reply.started": "2021-12-02T10:03:46.733974Z"
    },
    "papermill": {
     "duration": 0.050098,
     "end_time": "2021-12-08T12:52:10.617259",
     "exception": false,
     "start_time": "2021-12-08T12:52:10.567161",
     "status": "completed"
    },
    "tags": []
   },
   "outputs": [],
   "source": [
    "# Leaderboard : 0.95932"
   ]
  },
  {
   "cell_type": "markdown",
   "id": "9f285940",
   "metadata": {
    "papermill": {
     "duration": 0.043146,
     "end_time": "2021-12-08T12:52:10.703611",
     "exception": false,
     "start_time": "2021-12-08T12:52:10.660465",
     "status": "completed"
    },
    "tags": []
   },
   "source": [
    "# **Convolution and pooling**"
   ]
  },
  {
   "cell_type": "markdown",
   "id": "54ae8959",
   "metadata": {
    "papermill": {
     "duration": 0.043698,
     "end_time": "2021-12-08T12:52:10.790419",
     "exception": false,
     "start_time": "2021-12-08T12:52:10.746721",
     "status": "completed"
    },
    "tags": []
   },
   "source": [
    "From now on i'll use an early stopping which stop the training of the model when it hits the best score (the lowest loss function value by default) "
   ]
  },
  {
   "cell_type": "code",
   "execution_count": 24,
   "id": "eca75a40",
   "metadata": {
    "execution": {
     "iopub.execute_input": "2021-12-08T12:52:10.880725Z",
     "iopub.status.busy": "2021-12-08T12:52:10.880084Z",
     "iopub.status.idle": "2021-12-08T12:52:10.883670Z",
     "shell.execute_reply": "2021-12-08T12:52:10.884264Z",
     "shell.execute_reply.started": "2021-12-08T12:26:06.080808Z"
    },
    "papermill": {
     "duration": 0.050567,
     "end_time": "2021-12-08T12:52:10.884439",
     "exception": false,
     "start_time": "2021-12-08T12:52:10.833872",
     "status": "completed"
    },
    "tags": []
   },
   "outputs": [],
   "source": [
    "from keras.layers import Conv2D, MaxPooling2D\n",
    "from keras.callbacks import EarlyStopping"
   ]
  },
  {
   "cell_type": "code",
   "execution_count": 25,
   "id": "ddfbbfe6",
   "metadata": {
    "execution": {
     "iopub.execute_input": "2021-12-08T12:52:10.976511Z",
     "iopub.status.busy": "2021-12-08T12:52:10.975777Z",
     "iopub.status.idle": "2021-12-08T12:52:10.979164Z",
     "shell.execute_reply": "2021-12-08T12:52:10.979697Z",
     "shell.execute_reply.started": "2021-12-08T11:54:18.511150Z"
    },
    "papermill": {
     "duration": 0.051297,
     "end_time": "2021-12-08T12:52:10.979864",
     "exception": false,
     "start_time": "2021-12-08T12:52:10.928567",
     "status": "completed"
    },
    "tags": []
   },
   "outputs": [],
   "source": [
    "early_stop = EarlyStopping(patience=5, restore_best_weights=True)"
   ]
  },
  {
   "cell_type": "markdown",
   "id": "cd90d90e",
   "metadata": {
    "papermill": {
     "duration": 0.043973,
     "end_time": "2021-12-08T12:52:11.067415",
     "exception": false,
     "start_time": "2021-12-08T12:52:11.023442",
     "status": "completed"
    },
    "tags": []
   },
   "source": [
    "We have to reshape the data to feed the convolution layer"
   ]
  },
  {
   "cell_type": "code",
   "execution_count": 26,
   "id": "dd0e5fa1",
   "metadata": {
    "execution": {
     "iopub.execute_input": "2021-12-08T12:52:11.157912Z",
     "iopub.status.busy": "2021-12-08T12:52:11.157273Z",
     "iopub.status.idle": "2021-12-08T12:52:11.338402Z",
     "shell.execute_reply": "2021-12-08T12:52:11.337662Z",
     "shell.execute_reply.started": "2021-12-08T11:54:19.402606Z"
    },
    "papermill": {
     "duration": 0.227672,
     "end_time": "2021-12-08T12:52:11.338568",
     "exception": false,
     "start_time": "2021-12-08T12:52:11.110896",
     "status": "completed"
    },
    "tags": []
   },
   "outputs": [],
   "source": [
    "X_train = np.array(X_train).reshape((31500, 28, 28, 1))\n",
    "X_val = np.array(X_val).reshape((10500, 28, 28, 1))\n",
    "X_test = np.array(X_test).reshape((28000, 28, 28, 1))"
   ]
  },
  {
   "cell_type": "code",
   "execution_count": 27,
   "id": "260ec24c",
   "metadata": {
    "execution": {
     "iopub.execute_input": "2021-12-08T12:52:11.429651Z",
     "iopub.status.busy": "2021-12-08T12:52:11.428991Z",
     "iopub.status.idle": "2021-12-08T12:52:11.488887Z",
     "shell.execute_reply": "2021-12-08T12:52:11.488346Z",
     "shell.execute_reply.started": "2021-12-02T15:47:26.369883Z"
    },
    "papermill": {
     "duration": 0.106244,
     "end_time": "2021-12-08T12:52:11.489053",
     "exception": false,
     "start_time": "2021-12-08T12:52:11.382809",
     "status": "completed"
    },
    "tags": []
   },
   "outputs": [],
   "source": [
    "inp = Input(shape=(28, 28, 1))\n",
    "conv = Conv2D(16, kernel_size=(3,3), padding='same')(inp)\n",
    "pool = MaxPooling2D()(conv)\n",
    "hidden = Dense(256, activation='relu')(pool)\n",
    "flatten = Flatten()(hidden)\n",
    "out = Dense(10, activation='softmax')(flatten)\n",
    "model = Model(inputs=inp, outputs=out)"
   ]
  },
  {
   "cell_type": "code",
   "execution_count": 28,
   "id": "4a5fbd37",
   "metadata": {
    "execution": {
     "iopub.execute_input": "2021-12-08T12:52:11.579717Z",
     "iopub.status.busy": "2021-12-08T12:52:11.579113Z",
     "iopub.status.idle": "2021-12-08T12:52:11.587648Z",
     "shell.execute_reply": "2021-12-08T12:52:11.588204Z",
     "shell.execute_reply.started": "2021-12-02T15:47:39.464024Z"
    },
    "papermill": {
     "duration": 0.055583,
     "end_time": "2021-12-08T12:52:11.588383",
     "exception": false,
     "start_time": "2021-12-08T12:52:11.532800",
     "status": "completed"
    },
    "tags": []
   },
   "outputs": [],
   "source": [
    "model.compile(optimizer='adam', loss='categorical_crossentropy', metrics=['accuracy'])"
   ]
  },
  {
   "cell_type": "code",
   "execution_count": 29,
   "id": "98e2154a",
   "metadata": {
    "execution": {
     "iopub.execute_input": "2021-12-08T12:52:11.678211Z",
     "iopub.status.busy": "2021-12-08T12:52:11.677601Z",
     "iopub.status.idle": "2021-12-08T12:52:11.680305Z",
     "shell.execute_reply": "2021-12-08T12:52:11.680863Z",
     "shell.execute_reply.started": "2021-12-08T11:51:47.186976Z"
    },
    "papermill": {
     "duration": 0.049427,
     "end_time": "2021-12-08T12:52:11.681063",
     "exception": false,
     "start_time": "2021-12-08T12:52:11.631636",
     "status": "completed"
    },
    "tags": []
   },
   "outputs": [],
   "source": [
    "# model.fit(X_train, y_train, validation_data=(X_val, y_val), epochs=10, callbacks=[early_stop])"
   ]
  },
  {
   "cell_type": "code",
   "execution_count": 30,
   "id": "fe08cc16",
   "metadata": {
    "execution": {
     "iopub.execute_input": "2021-12-08T12:52:11.772874Z",
     "iopub.status.busy": "2021-12-08T12:52:11.772227Z",
     "iopub.status.idle": "2021-12-08T12:52:15.461116Z",
     "shell.execute_reply": "2021-12-08T12:52:15.460343Z",
     "shell.execute_reply.started": "2021-12-08T11:21:17.045081Z"
    },
    "papermill": {
     "duration": 3.735013,
     "end_time": "2021-12-08T12:52:15.461273",
     "exception": false,
     "start_time": "2021-12-08T12:52:11.726260",
     "status": "completed"
    },
    "tags": []
   },
   "outputs": [],
   "source": [
    "sub = get_sub(X_test)\n",
    "sub.to_csv('submission.csv', index=False) "
   ]
  },
  {
   "cell_type": "code",
   "execution_count": 31,
   "id": "bf55cd51",
   "metadata": {
    "execution": {
     "iopub.execute_input": "2021-12-08T12:52:15.554200Z",
     "iopub.status.busy": "2021-12-08T12:52:15.553293Z",
     "iopub.status.idle": "2021-12-08T12:52:15.555464Z",
     "shell.execute_reply": "2021-12-08T12:52:15.555933Z",
     "shell.execute_reply.started": "2021-12-02T10:12:38.196294Z"
    },
    "papermill": {
     "duration": 0.050197,
     "end_time": "2021-12-08T12:52:15.556119",
     "exception": false,
     "start_time": "2021-12-08T12:52:15.505922",
     "status": "completed"
    },
    "tags": []
   },
   "outputs": [],
   "source": [
    "# Leaderboard : 0.97875"
   ]
  },
  {
   "cell_type": "markdown",
   "id": "9252bbd4",
   "metadata": {
    "papermill": {
     "duration": 0.044178,
     "end_time": "2021-12-08T12:52:15.643727",
     "exception": false,
     "start_time": "2021-12-08T12:52:15.599549",
     "status": "completed"
    },
    "tags": []
   },
   "source": [
    "# **Data augmentation**"
   ]
  },
  {
   "cell_type": "code",
   "execution_count": 32,
   "id": "414fbaa8",
   "metadata": {
    "execution": {
     "iopub.execute_input": "2021-12-08T12:52:15.739117Z",
     "iopub.status.busy": "2021-12-08T12:52:15.738099Z",
     "iopub.status.idle": "2021-12-08T12:52:15.740418Z",
     "shell.execute_reply": "2021-12-08T12:52:15.741087Z",
     "shell.execute_reply.started": "2021-12-08T11:50:19.110802Z"
    },
    "papermill": {
     "duration": 0.053312,
     "end_time": "2021-12-08T12:52:15.741279",
     "exception": false,
     "start_time": "2021-12-08T12:52:15.687967",
     "status": "completed"
    },
    "tags": []
   },
   "outputs": [],
   "source": [
    "import matplotlib.pyplot as plt"
   ]
  },
  {
   "cell_type": "code",
   "execution_count": 33,
   "id": "09f8a39e",
   "metadata": {
    "execution": {
     "iopub.execute_input": "2021-12-08T12:52:15.839735Z",
     "iopub.status.busy": "2021-12-08T12:52:15.838958Z",
     "iopub.status.idle": "2021-12-08T12:52:16.914414Z",
     "shell.execute_reply": "2021-12-08T12:52:16.915019Z",
     "shell.execute_reply.started": "2021-12-08T11:54:24.931101Z"
    },
    "papermill": {
     "duration": 1.129213,
     "end_time": "2021-12-08T12:52:16.915213",
     "exception": false,
     "start_time": "2021-12-08T12:52:15.786000",
     "status": "completed"
    },
    "tags": []
   },
   "outputs": [
    {
     "data": {
      "image/png": "[encoded data removed]",
      "text/plain": [
       "<Figure size 1080x360 with 5 Axes>"
      ]
     },
     "metadata": {
      "needs_background": "light"
     },
     "output_type": "display_data"
    }
   ],
   "source": [
    "fig, ax = plt.subplots(1,5, figsize=(15,5))\n",
    "for i in np.arange(1,6,1):\n",
    "    ax[i-1] = plt.subplot(1, 5, i)\n",
    "    plt.imshow(X_train[i])\n",
    "    plt.tight_layout()"
   ]
  },
  {
   "cell_type": "markdown",
   "id": "95ddd3d2",
   "metadata": {
    "papermill": {
     "duration": 0.046553,
     "end_time": "2021-12-08T12:52:17.007419",
     "exception": false,
     "start_time": "2021-12-08T12:52:16.960866",
     "status": "completed"
    },
    "tags": []
   },
   "source": [
    "Taking a look at the images makes me think there's not a big need for data augmentation\n",
    "\n",
    "Every transformation i want to apply can be process directly in the network using keras layers (https://www.tensorflow.org/guide/keras/preprocessing_layers)"
   ]
  },
  {
   "cell_type": "code",
   "execution_count": 34,
   "id": "cd7853fb",
   "metadata": {
    "execution": {
     "iopub.execute_input": "2021-12-08T12:52:17.108090Z",
     "iopub.status.busy": "2021-12-08T12:52:17.107373Z",
     "iopub.status.idle": "2021-12-08T12:52:17.110135Z",
     "shell.execute_reply": "2021-12-08T12:52:17.109435Z",
     "shell.execute_reply.started": "2021-12-08T12:26:33.700760Z"
    },
    "papermill": {
     "duration": 0.057594,
     "end_time": "2021-12-08T12:52:17.110297",
     "exception": false,
     "start_time": "2021-12-08T12:52:17.052703",
     "status": "completed"
    },
    "tags": []
   },
   "outputs": [],
   "source": [
    "from keras.layers import Resizing, RandomZoom, RandomRotation"
   ]
  },
  {
   "cell_type": "code",
   "execution_count": 35,
   "id": "363895bc",
   "metadata": {
    "execution": {
     "iopub.execute_input": "2021-12-08T12:52:17.219421Z",
     "iopub.status.busy": "2021-12-08T12:52:17.207619Z",
     "iopub.status.idle": "2021-12-08T12:52:17.379589Z",
     "shell.execute_reply": "2021-12-08T12:52:17.380205Z",
     "shell.execute_reply.started": "2021-12-08T11:56:28.885621Z"
    },
    "papermill": {
     "duration": 0.222825,
     "end_time": "2021-12-08T12:52:17.380390",
     "exception": false,
     "start_time": "2021-12-08T12:52:17.157565",
     "status": "completed"
    },
    "tags": []
   },
   "outputs": [],
   "source": [
    "inp = Input(shape=(28, 28, 1))\n",
    "\n",
    "resized = Resizing(38,38)(inp)\n",
    "zoom = RandomZoom(0.07)(resized)   \n",
    "rot = RandomRotation(0.07)(zoom)\n",
    "\n",
    "conv = Conv2D(16, kernel_size=(3,3), padding='same')(inp)\n",
    "pool = MaxPooling2D()(conv)\n",
    "\n",
    "hidden = Dense(256, activation='relu')(pool)\n",
    "flatten = Flatten()(hidden)\n",
    "out = Dense(10, activation='softmax')(flatten)\n",
    "model = Model(inputs=inp, outputs=out)"
   ]
  },
  {
   "cell_type": "code",
   "execution_count": 36,
   "id": "606b2345",
   "metadata": {
    "execution": {
     "iopub.execute_input": "2021-12-08T12:52:17.479484Z",
     "iopub.status.busy": "2021-12-08T12:52:17.478440Z",
     "iopub.status.idle": "2021-12-08T12:52:17.484495Z",
     "shell.execute_reply": "2021-12-08T12:52:17.483858Z",
     "shell.execute_reply.started": "2021-12-08T11:57:02.464152Z"
    },
    "papermill": {
     "duration": 0.059205,
     "end_time": "2021-12-08T12:52:17.484645",
     "exception": false,
     "start_time": "2021-12-08T12:52:17.425440",
     "status": "completed"
    },
    "tags": []
   },
   "outputs": [],
   "source": [
    "model.compile(optimizer='adam', loss='categorical_crossentropy', metrics=['accuracy'])"
   ]
  },
  {
   "cell_type": "code",
   "execution_count": 37,
   "id": "76b29c85",
   "metadata": {
    "execution": {
     "iopub.execute_input": "2021-12-08T12:52:17.581799Z",
     "iopub.status.busy": "2021-12-08T12:52:17.581095Z",
     "iopub.status.idle": "2021-12-08T12:54:18.970670Z",
     "shell.execute_reply": "2021-12-08T12:54:18.971729Z",
     "shell.execute_reply.started": "2021-12-08T11:57:02.894686Z"
    },
    "papermill": {
     "duration": 121.441046,
     "end_time": "2021-12-08T12:54:18.971932",
     "exception": false,
     "start_time": "2021-12-08T12:52:17.530886",
     "status": "completed"
    },
    "tags": []
   },
   "outputs": [
    {
     "name": "stdout",
     "output_type": "stream",
     "text": [
      "Epoch 1/10\n",
      "985/985 [==============================] - 15s 14ms/step - loss: 0.1953 - accuracy: 0.9446 - val_loss: 0.0948 - val_accuracy: 0.9725\n",
      "Epoch 2/10\n",
      "985/985 [==============================] - 13s 13ms/step - loss: 0.0606 - accuracy: 0.9822 - val_loss: 0.0897 - val_accuracy: 0.9740\n",
      "Epoch 3/10\n",
      "985/985 [==============================] - 14s 14ms/step - loss: 0.0387 - accuracy: 0.9874 - val_loss: 0.0848 - val_accuracy: 0.9765\n",
      "Epoch 4/10\n",
      "985/985 [==============================] - 13s 13ms/step - loss: 0.0260 - accuracy: 0.9915 - val_loss: 0.0716 - val_accuracy: 0.9792\n",
      "Epoch 5/10\n",
      "985/985 [==============================] - 13s 13ms/step - loss: 0.0176 - accuracy: 0.9946 - val_loss: 0.1087 - val_accuracy: 0.9742\n",
      "Epoch 6/10\n",
      "985/985 [==============================] - 14s 14ms/step - loss: 0.0158 - accuracy: 0.9947 - val_loss: 0.1208 - val_accuracy: 0.9726\n",
      "Epoch 7/10\n",
      "985/985 [==============================] - 13s 14ms/step - loss: 0.0141 - accuracy: 0.9955 - val_loss: 0.1004 - val_accuracy: 0.9760\n",
      "Epoch 8/10\n",
      "985/985 [==============================] - 14s 14ms/step - loss: 0.0098 - accuracy: 0.9969 - val_loss: 0.1241 - val_accuracy: 0.9756\n",
      "Epoch 9/10\n",
      "985/985 [==============================] - 13s 13ms/step - loss: 0.0090 - accuracy: 0.9971 - val_loss: 0.1206 - val_accuracy: 0.9764\n"
     ]
    },
    {
     "data": {
      "text/plain": [
       "<keras.callbacks.History at 0x7f06a2ffb890>"
      ]
     },
     "execution_count": 37,
     "metadata": {},
     "output_type": "execute_result"
    }
   ],
   "source": [
    "model.fit(X_train, y_train, validation_data=(X_val, y_val), epochs=10, callbacks=[early_stop])"
   ]
  },
  {
   "cell_type": "code",
   "execution_count": 38,
   "id": "369c83bd",
   "metadata": {
    "execution": {
     "iopub.execute_input": "2021-12-08T12:54:20.203995Z",
     "iopub.status.busy": "2021-12-08T12:54:20.203294Z",
     "iopub.status.idle": "2021-12-08T12:54:24.160328Z",
     "shell.execute_reply": "2021-12-08T12:54:24.159734Z",
     "shell.execute_reply.started": "2021-12-08T12:00:22.689157Z"
    },
    "papermill": {
     "duration": 4.575416,
     "end_time": "2021-12-08T12:54:24.160489",
     "exception": false,
     "start_time": "2021-12-08T12:54:19.585073",
     "status": "completed"
    },
    "tags": []
   },
   "outputs": [],
   "source": [
    "sub = get_sub(X_test)\n",
    "sub.to_csv('submission.csv', index=False) "
   ]
  },
  {
   "cell_type": "code",
   "execution_count": 39,
   "id": "e0538368",
   "metadata": {
    "execution": {
     "iopub.execute_input": "2021-12-08T12:54:25.389238Z",
     "iopub.status.busy": "2021-12-08T12:54:25.388529Z",
     "iopub.status.idle": "2021-12-08T12:54:25.391227Z",
     "shell.execute_reply": "2021-12-08T12:54:25.390690Z",
     "shell.execute_reply.started": "2021-12-08T12:01:34.188633Z"
    },
    "papermill": {
     "duration": 0.622533,
     "end_time": "2021-12-08T12:54:25.391378",
     "exception": false,
     "start_time": "2021-12-08T12:54:24.768845",
     "status": "completed"
    },
    "tags": []
   },
   "outputs": [],
   "source": [
    "# Leaderboard : 0.97760"
   ]
  },
  {
   "cell_type": "markdown",
   "id": "77958364",
   "metadata": {
    "papermill": {
     "duration": 0.614496,
     "end_time": "2021-12-08T12:54:26.624083",
     "exception": false,
     "start_time": "2021-12-08T12:54:26.009587",
     "status": "completed"
    },
    "tags": []
   },
   "source": [
    "The model seems to need more complexity to treat those new layers"
   ]
  },
  {
   "cell_type": "markdown",
   "id": "0dd31abf",
   "metadata": {
    "papermill": {
     "duration": 0.609907,
     "end_time": "2021-12-08T12:54:27.850460",
     "exception": false,
     "start_time": "2021-12-08T12:54:27.240553",
     "status": "completed"
    },
    "tags": []
   },
   "source": [
    "# **Optimizations**"
   ]
  },
  {
   "cell_type": "markdown",
   "id": "e929523e",
   "metadata": {
    "papermill": {
     "duration": 0.614891,
     "end_time": "2021-12-08T12:54:29.092877",
     "exception": false,
     "start_time": "2021-12-08T12:54:28.477986",
     "status": "completed"
    },
    "tags": []
   },
   "source": [
    "I'll add several things to increase the accuracy : \n",
    "* 4 more convolution / pooling layers\n",
    "* Batch Normalization layers\n",
    "* a new callback which will reduce the learning rate by steps"
   ]
  },
  {
   "cell_type": "code",
   "execution_count": 40,
   "id": "98fd3489",
   "metadata": {
    "execution": {
     "iopub.execute_input": "2021-12-08T12:54:30.378675Z",
     "iopub.status.busy": "2021-12-08T12:54:30.377201Z",
     "iopub.status.idle": "2021-12-08T12:54:30.381798Z",
     "shell.execute_reply": "2021-12-08T12:54:30.381260Z",
     "shell.execute_reply.started": "2021-12-08T12:26:50.584142Z"
    },
    "papermill": {
     "duration": 0.64699,
     "end_time": "2021-12-08T12:54:30.381951",
     "exception": false,
     "start_time": "2021-12-08T12:54:29.734961",
     "status": "completed"
    },
    "tags": []
   },
   "outputs": [],
   "source": [
    "from keras.layers import BatchNormalization\n",
    "from keras.callbacks import ReduceLROnPlateau"
   ]
  },
  {
   "cell_type": "code",
   "execution_count": 41,
   "id": "4b62d523",
   "metadata": {
    "execution": {
     "iopub.execute_input": "2021-12-08T12:54:31.611428Z",
     "iopub.status.busy": "2021-12-08T12:54:31.610379Z",
     "iopub.status.idle": "2021-12-08T12:54:31.612916Z",
     "shell.execute_reply": "2021-12-08T12:54:31.612360Z",
     "shell.execute_reply.started": "2021-12-08T12:10:46.770329Z"
    },
    "papermill": {
     "duration": 0.616768,
     "end_time": "2021-12-08T12:54:31.613082",
     "exception": false,
     "start_time": "2021-12-08T12:54:30.996314",
     "status": "completed"
    },
    "tags": []
   },
   "outputs": [],
   "source": [
    "lr_plat = ReduceLROnPlateau(monitor='val_accuracy', patience=3, verbose=1, factor=0.3, min_lr=0.00001)"
   ]
  },
  {
   "cell_type": "markdown",
   "id": "c8d6b90b",
   "metadata": {
    "papermill": {
     "duration": 0.610366,
     "end_time": "2021-12-08T12:54:32.897260",
     "exception": false,
     "start_time": "2021-12-08T12:54:32.286894",
     "status": "completed"
    },
    "tags": []
   },
   "source": [
    "Final model : "
   ]
  },
  {
   "cell_type": "code",
   "execution_count": 42,
   "id": "6ebe6cd8",
   "metadata": {
    "execution": {
     "iopub.execute_input": "2021-12-08T12:54:34.149150Z",
     "iopub.status.busy": "2021-12-08T12:54:34.148160Z",
     "iopub.status.idle": "2021-12-08T12:54:34.409985Z",
     "shell.execute_reply": "2021-12-08T12:54:34.409420Z",
     "shell.execute_reply.started": "2021-12-08T12:10:50.631893Z"
    },
    "papermill": {
     "duration": 0.872112,
     "end_time": "2021-12-08T12:54:34.410174",
     "exception": false,
     "start_time": "2021-12-08T12:54:33.538062",
     "status": "completed"
    },
    "tags": []
   },
   "outputs": [],
   "source": [
    "inp = Input(shape=(28, 28, 1))      \n",
    "\n",
    "# Data augmentation\n",
    "resized = Resizing(38,38)(inp)\n",
    "zoom = RandomZoom(0.07)(resized)   \n",
    "rot = RandomRotation(0.07)(zoom)\n",
    "\n",
    "conv = Conv2D(64, kernel_size=(3,3), padding='same', activation='relu')(rot)                             \n",
    "pool = MaxPooling2D()(conv)          \n",
    "norm = BatchNormalization()(pool)\n",
    "\n",
    "conv_2 = Conv2D(64, kernel_size=(3,3), padding='same', activation='relu')(norm)\n",
    "pool_2 = MaxPooling2D()(conv_2)\n",
    "norm_2 = BatchNormalization()(pool_2)\n",
    "\n",
    "conv_3 = Conv2D(64, kernel_size=(3,3), padding='same', activation='relu')(norm_2)        \n",
    "pool_3 = MaxPooling2D()(conv_3)\n",
    "norm_3 = BatchNormalization()(pool_3)\n",
    "\n",
    "conv_4 = Conv2D(64, kernel_size=(3,3), padding='same', activation='relu')(norm_3)        \n",
    "pool_4 = MaxPooling2D()(conv_4)\n",
    "norm_4 = BatchNormalization()(pool_4)\n",
    "\n",
    "conv_5 = Conv2D(64, kernel_size=(3,3), padding='same', activation='relu')(norm_4)        \n",
    "pool_5 = MaxPooling2D()(conv_5)\n",
    "norm_5 = BatchNormalization()(pool_5)\n",
    "\n",
    "hidden = Dense(256, activation='relu')(norm_5)\n",
    "flatten = Flatten()(hidden)\n",
    "out = Dense(10, activation='softmax')(flatten)\n",
    "\n",
    "model = Model(inputs=inp, outputs=out)\n",
    "\n",
    "model.compile(optimizer='Adam', loss='categorical_crossentropy', metrics=['accuracy'])"
   ]
  },
  {
   "cell_type": "code",
   "execution_count": 43,
   "id": "edbbd8ee",
   "metadata": {
    "execution": {
     "iopub.execute_input": "2021-12-08T12:54:35.648303Z",
     "iopub.status.busy": "2021-12-08T12:54:35.647566Z",
     "iopub.status.idle": "2021-12-08T13:06:10.749628Z",
     "shell.execute_reply": "2021-12-08T13:06:10.750162Z",
     "shell.execute_reply.started": "2021-12-08T12:10:50.981390Z"
    },
    "papermill": {
     "duration": 695.72539,
     "end_time": "2021-12-08T13:06:10.750359",
     "exception": false,
     "start_time": "2021-12-08T12:54:35.024969",
     "status": "completed"
    },
    "tags": []
   },
   "outputs": [
    {
     "name": "stdout",
     "output_type": "stream",
     "text": [
      "Epoch 1/40\n",
      "493/493 [==============================] - 56s 112ms/step - loss: 0.2259 - accuracy: 0.9329 - val_loss: 0.3258 - val_accuracy: 0.8806\n",
      "Epoch 2/40\n",
      "493/493 [==============================] - 58s 117ms/step - loss: 0.0797 - accuracy: 0.9755 - val_loss: 0.0623 - val_accuracy: 0.9813\n",
      "Epoch 3/40\n",
      "493/493 [==============================] - 58s 117ms/step - loss: 0.0562 - accuracy: 0.9816 - val_loss: 0.0495 - val_accuracy: 0.9852\n",
      "Epoch 4/40\n",
      "493/493 [==============================] - 58s 117ms/step - loss: 0.0491 - accuracy: 0.9848 - val_loss: 0.0504 - val_accuracy: 0.9848\n",
      "Epoch 5/40\n",
      "493/493 [==============================] - 57s 116ms/step - loss: 0.0442 - accuracy: 0.9862 - val_loss: 0.0518 - val_accuracy: 0.9853\n",
      "Epoch 6/40\n",
      "493/493 [==============================] - 58s 117ms/step - loss: 0.0376 - accuracy: 0.9884 - val_loss: 0.0491 - val_accuracy: 0.9850\n",
      "\n",
      "Epoch 00006: ReduceLROnPlateau reducing learning rate to 0.0003000000142492354.\n",
      "Epoch 7/40\n",
      "493/493 [==============================] - 59s 119ms/step - loss: 0.0227 - accuracy: 0.9923 - val_loss: 0.0290 - val_accuracy: 0.9919\n",
      "Epoch 8/40\n",
      "493/493 [==============================] - 59s 120ms/step - loss: 0.0165 - accuracy: 0.9945 - val_loss: 0.0302 - val_accuracy: 0.9915\n",
      "Epoch 9/40\n",
      "493/493 [==============================] - 57s 116ms/step - loss: 0.0145 - accuracy: 0.9954 - val_loss: 0.0329 - val_accuracy: 0.9906\n",
      "Epoch 10/40\n",
      "493/493 [==============================] - 59s 120ms/step - loss: 0.0124 - accuracy: 0.9960 - val_loss: 0.0313 - val_accuracy: 0.9910\n",
      "\n",
      "Epoch 00010: ReduceLROnPlateau reducing learning rate to 9.000000427477062e-05.\n",
      "Epoch 11/40\n",
      "493/493 [==============================] - 60s 121ms/step - loss: 0.0103 - accuracy: 0.9968 - val_loss: 0.0294 - val_accuracy: 0.9921\n",
      "Epoch 12/40\n",
      "493/493 [==============================] - 57s 116ms/step - loss: 0.0091 - accuracy: 0.9969 - val_loss: 0.0300 - val_accuracy: 0.9918\n"
     ]
    },
    {
     "data": {
      "text/plain": [
       "<keras.callbacks.History at 0x7f06a23022d0>"
      ]
     },
     "execution_count": 43,
     "metadata": {},
     "output_type": "execute_result"
    }
   ],
   "source": [
    "model.fit(X_train, y_train, validation_data=(X_val, y_val), epochs=40, callbacks=[early_stop, lr_plat], batch_size=64)                                                         "
   ]
  },
  {
   "cell_type": "code",
   "execution_count": 44,
   "id": "e89e0c88",
   "metadata": {
    "execution": {
     "iopub.execute_input": "2021-12-08T13:06:15.660307Z",
     "iopub.status.busy": "2021-12-08T13:06:15.658885Z",
     "iopub.status.idle": "2021-12-08T13:06:30.098424Z",
     "shell.execute_reply": "2021-12-08T13:06:30.098950Z",
     "shell.execute_reply.started": "2021-12-08T12:22:19.321202Z"
    },
    "papermill": {
     "duration": 16.915316,
     "end_time": "2021-12-08T13:06:30.099189",
     "exception": false,
     "start_time": "2021-12-08T13:06:13.183873",
     "status": "completed"
    },
    "tags": []
   },
   "outputs": [],
   "source": [
    "sub = get_sub(X_test)            \n",
    "sub.to_csv('submission.csv', index=False)                     "
   ]
  }
 ],
 "metadata": {
  "kernelspec": {
   "display_name": "Python 3 (ipykernel)",
   "language": "python",
   "name": "python3"
  },
  "language_info": {
   "codemirror_mode": {
    "name": "ipython",
    "version": 3
   },
   "file_extension": ".py",
   "mimetype": "text/x-python",
   "name": "python",
   "nbconvert_exporter": "python",
   "pygments_lexer": "ipython3",
   "version": "3.8.11"
  },
  "papermill": {
   "default_parameters": {},
   "duration": 896.468232,
   "end_time": "2021-12-08T13:06:36.021915",
   "environment_variables": {},
   "exception": null,
   "input_path": "__notebook__.ipynb",
   "output_path": "__notebook__.ipynb",
   "parameters": {},
   "start_time": "2021-12-08T12:51:39.553683",
   "version": "2.3.3"
  }
 },
 "nbformat": 4,
 "nbformat_minor": 5
}
